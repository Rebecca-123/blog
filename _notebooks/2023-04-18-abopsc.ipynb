{
 "cells": [
  {
   "cell_type": "markdown",
   "metadata": {},
   "source": [
    "# Units 1-4 Review\n",
    "- toc: true \n",
    "- badges: true\n",
    "- comments: true\n",
    "- categories: [apr, abopsc]"
   ]
  },
  {
   "attachments": {},
   "cell_type": "markdown",
   "metadata": {},
   "source": [
    "# See TOC for Direct Links to Hacks and Extra Code\n",
    "- They are embedded throughout with the lesson notes"
   ]
  },
  {
   "attachments": {},
   "cell_type": "markdown",
   "metadata": {},
   "source": [
    "# Unit 1"
   ]
  },
  {
   "attachments": {},
   "cell_type": "markdown",
   "metadata": {},
   "source": [
    "## Primitive Data Types\n",
    "- Int, double, boolean\n",
    "   - Used to store different types of data\n",
    "\n",
    "## Arithmetic Operators\n",
    "![](images/arithmeticoperators.png)\n",
    "\n",
    "## Compound Assignment Operators\n",
    "- Increment by 1: a += 1 OR a++\n",
    "- Decrement by 1: a -= 1 OR a--\n",
    "- Extra:\n",
    "   - a *= 2, a /= 2, a %= 2"
   ]
  },
  {
   "cell_type": "code",
   "execution_count": 1,
   "metadata": {},
   "outputs": [
    {
     "name": "stdout",
     "output_type": "stream",
     "text": [
      "Year: 2023\n",
      "Price: $30000.0\n",
      "Is Electric: true\n"
     ]
    }
   ],
   "source": [
    "public class Car {\n",
    "    public static void main(String[] args) {\n",
    "        // initializing and declaring variables storing primitives\n",
    "        int year = 2023;\n",
    "        double price = 30000.00;\n",
    "        boolean isElectric = true;\n",
    "        \n",
    "        System.out.println(\"Year: \" + year);\n",
    "        System.out.println(\"Price: $\" + price);\n",
    "        System.out.println(\"Is Electric: \" + isElectric);\n",
    "    }\n",
    "}\n",
    "Car.main(null);"
   ]
  },
  {
   "cell_type": "code",
   "execution_count": 1,
   "metadata": {},
   "outputs": [
    {
     "name": "stdout",
     "output_type": "stream",
     "text": [
      "Enter the price of the car: The price of the car is $100.0\n"
     ]
    }
   ],
   "source": [
    "import java.util.Scanner;\n",
    "\n",
    "public class CarPrice {\n",
    "    public static void main(String[] args) {\n",
    "        Scanner scanner = new Scanner(System.in);\n",
    "\n",
    "        System.out.print(\"Enter the price of the car: \");\n",
    "        double price = scanner.nextDouble();\n",
    "\n",
    "        System.out.println(\"The price of the car is $\" + price);\n",
    "\n",
    "        scanner.close();\n",
    "    }\n",
    "}\n",
    "CarPrice.main(null);"
   ]
  },
  {
   "attachments": {},
   "cell_type": "markdown",
   "metadata": {},
   "source": [
    "## Hack 1\n",
    "Make a code segment that calculates the number of wheels of x number of cars"
   ]
  },
  {
   "cell_type": "code",
   "execution_count": 2,
   "metadata": {},
   "outputs": [
    {
     "name": "stdout",
     "output_type": "stream",
     "text": [
      "Number of cars on highway: 2\n",
      "Total wheels on highway: 8\n",
      "\n",
      "Number of cars on highway: 4\n",
      "Total wheels on highway: 16\n",
      "\n",
      "Number of cars on highway: 6\n",
      "Total wheels on highway: 24\n",
      "\n",
      "Number of cars on highway: 8\n",
      "Total wheels on highway: 32\n",
      "\n",
      "Number of cars on highway: 10\n",
      "Total wheels on highway: 40\n",
      "\n"
     ]
    }
   ],
   "source": [
    "public class Hack1 {\n",
    "    public static void main(String[] args) {\n",
    "        \n",
    "        // calculate cars\n",
    "\n",
    "        int cars = 0; // starting number of cars\n",
    "        int numCarsEntering = 2; // number of cars entering at a time\n",
    "        int numIterations = 5; // number of times to loop\n",
    "        int wheels = 0;\n",
    "\n",
    "        for (int i = 0; i < numIterations; i++) {\n",
    "            cars += numCarsEntering; // use compound operator to add cars\n",
    "            wheels += 4 * 2;\n",
    "            System.out.println(\"Number of cars on highway: \" + cars);\n",
    "            System.out.println(\"Total wheels on highway: \" + wheels + \"\\n\");\n",
    "        }\n",
    "\n",
    "    }\n",
    "}\n",
    "Hack1.main(null);"
   ]
  },
  {
   "attachments": {},
   "cell_type": "markdown",
   "metadata": {},
   "source": [
    "# Unit 2\n",
    "## OOP\n",
    "- Objects are created based on a class which serves as the blueprint\n",
    "   - Objects/methods are used to access data\n",
    "- Object is a reference type\n",
    "- Data is initialized for an object using the class constructor\n",
    "   - When a new object is created the constructor is called\n",
    "\n",
    "## Getters and Setters\n",
    "- aka accessors and mutators\n",
    "- Getter: get value of variable\n",
    "- Setter: set value of variable\n",
    "\n",
    "## Methods\n",
    "- Method signature contains scope, return type, method name, parameters\n",
    "   - Scope: public/private\n",
    "      - Determines whether the method can be accessed outside of the class that it is in\n",
    "   - Return type: void (no data), int, double, boolean... can also be a custom type\n",
    "   - Method name: describes action of method  \n",
    "   - Parameters: variables used in the method, that must be inputted as arguments when the method is called\n",
    "\n",
    "![](images/methods-in-java.png)"
   ]
  },
  {
   "attachments": {},
   "cell_type": "markdown",
   "metadata": {},
   "source": [
    "## Extra Code to Understand Scope"
   ]
  },
  {
   "cell_type": "code",
   "execution_count": 1,
   "metadata": {},
   "outputs": [],
   "source": [
    "public class MyClass {\n",
    "    public void publicMethod() { // can be called in any class\n",
    "      System.out.println(\"This is a public method.\");\n",
    "      privateMethod(); // calling privateMethod() within MyClass is ok\n",
    "    }\n",
    "    private void privateMethod() { // accessed only within the class\n",
    "      System.out.println(\"This is a private method.\");\n",
    "    }\n",
    "} "
   ]
  },
  {
   "cell_type": "code",
   "execution_count": 2,
   "metadata": {},
   "outputs": [
    {
     "ename": "CompilationException",
     "evalue": "",
     "output_type": "error",
     "traceback": [
      "\u001b[1m\u001b[30m|   \u001b[1m\u001b[30m      \u001b[0m\u001b[1m\u001b[30m\u001b[41mmyObject.privateMethod\u001b[0m\u001b[1m\u001b[30m();\u001b[0m",
      "\u001b[1m\u001b[31mprivateMethod() has private access in MyClass\u001b[0m",
      ""
     ]
    }
   ],
   "source": [
    "public class Main {\n",
    "    public static void main(String[] args) {\n",
    "      MyClass myObject = new MyClass();\n",
    "      myObject.publicMethod();\n",
    "      myObject.privateMethod();\n",
    "    }\n",
    "}  \n",
    "Main.main(null);"
   ]
  },
  {
   "attachments": {},
   "cell_type": "markdown",
   "metadata": {},
   "source": [
    "- Compiler error when running the main method is due to the private scope of the `privateMethod()`"
   ]
  },
  {
   "cell_type": "code",
   "execution_count": null,
   "metadata": {},
   "outputs": [],
   "source": [
    "public class Car {\n",
    "    private String brand;\n",
    "    private String color;\n",
    "    private double price;\n",
    "    private double mileage;\n",
    "    \n",
    "    public Car(String brand, String color, double price, double mileage) {\n",
    "        this.brand = brand;\n",
    "        this.color = color;\n",
    "        this.price = price;\n",
    "        this.mileage = mileage;\n",
    "    }\n",
    "    \n",
    "    // Getters and setters\n",
    "    public String getBrand() {\n",
    "        return brand;\n",
    "    }\n",
    "    \n",
    "    public void setBrand(String brand) {\n",
    "        this.brand = brand;\n",
    "    }\n",
    "    \n",
    "    public String getColor() {\n",
    "        return color;\n",
    "    }\n",
    "    \n",
    "    public void setColor(String color) {\n",
    "        this.color = color;\n",
    "    }\n",
    "    \n",
    "    public double getPrice() {\n",
    "        return price;\n",
    "    }\n",
    "    \n",
    "    public void setPrice(double price) {\n",
    "        this.price = price;\n",
    "    }\n",
    "    \n",
    "    public double getMileage() {\n",
    "        return mileage;\n",
    "    }\n",
    "    \n",
    "    public void setMileage(double mileage) {\n",
    "        this.mileage = mileage;\n",
    "    }\n",
    "}"
   ]
  },
  {
   "cell_type": "code",
   "execution_count": 3,
   "metadata": {},
   "outputs": [
    {
     "name": "stdout",
     "output_type": "stream",
     "text": [
      "The cheaper car is: Toyota\n"
     ]
    }
   ],
   "source": [
    "public class Car {\n",
    "    private String name;\n",
    "    private double price;\n",
    "\n",
    "    public Car(String name, double price) {\n",
    "        this.name = name;\n",
    "        this.price = price;\n",
    "    }\n",
    "\n",
    "    public String getName() {\n",
    "        return name;\n",
    "    }\n",
    "\n",
    "    public double getPrice() {\n",
    "        return price;\n",
    "    }\n",
    "\n",
    "    public static String cheaperCar(String car1Name, double car1Price, String car2Name, double car2Price) {\n",
    "        Car car1 = new Car(car1Name, car1Price);\n",
    "        Car car2 = new Car(car2Name, car2Price);\n",
    "\n",
    "        if (car1.getPrice() < car2.getPrice()) {\n",
    "            return car1.getName();\n",
    "        } else {\n",
    "            return car2.getName();\n",
    "        }\n",
    "    }\n",
    "\n",
    "    public static void main(String[] args) {\n",
    "        String cheaperCarName = cheaperCar(\"Toyota\", 20000.0, \"Honda\", 25000.0);\n",
    "        System.out.println(\"The cheaper car is: \" + cheaperCarName);\n",
    "    }\n",
    "}\n",
    "Car.main(null);"
   ]
  },
  {
   "attachments": {},
   "cell_type": "markdown",
   "metadata": {},
   "source": [
    "## Math Class\n",
    "- Performs common mathematical functions such as absolute value, exponent power, square root, random number generation, etc..."
   ]
  },
  {
   "cell_type": "code",
   "execution_count": 4,
   "metadata": {},
   "outputs": [
    {
     "name": "stdout",
     "output_type": "stream",
     "text": [
      "The acceleration is 2.5\n"
     ]
    }
   ],
   "source": [
    "public class Acceleration {\n",
    "    public static void main(String[] args) {\n",
    "        double velocity1 = 10.0;\n",
    "        double velocity2 = 5.0;\n",
    "        double time = 2.0;\n",
    "        \n",
    "        // Calculate acceleration using absolute value\n",
    "        double acceleration = Math.abs((velocity2 - velocity1) / time);\n",
    "        \n",
    "        System.out.println(\"The acceleration is \" + acceleration);\n",
    "    }\n",
    "}\n",
    "Acceleration.main(null);"
   ]
  },
  {
   "cell_type": "code",
   "execution_count": 6,
   "metadata": {},
   "outputs": [
    {
     "name": "stdout",
     "output_type": "stream",
     "text": [
      "Selected Car: Honda Civic\n",
      "Year: 2019\n",
      "Price: $25000.0\n"
     ]
    }
   ],
   "source": [
    "import java.util.Random;\n",
    "\n",
    "public class CarRegistry {\n",
    "    public static void main(String[] args) {\n",
    "        // Define car registry\n",
    "        String[] make = {\"Honda\", \"Toyota\", \"Ford\", \"Chevrolet\", \"BMW\"};\n",
    "        String[] model = {\"Civic\", \"Camry\", \"F-150\", \"Silverado\", \"X5\"};\n",
    "        int[] year = {2015, 2016, 2017, 2018, 2019, 2020};\n",
    "        double[] price = {15000.0, 20000.0, 25000.0, 30000.0, 35000.0, 40000.0};\n",
    "        \n",
    "        // Select a random car from the registry\n",
    "        Random rand = new Random();\n",
    "        int index = rand.nextInt(make.length);\n",
    "        String selectedMake = make[index];\n",
    "        String selectedModel = model[index];\n",
    "        int selectedYear = year[rand.nextInt(year.length)];\n",
    "        double selectedPrice = price[rand.nextInt(price.length)];\n",
    "        \n",
    "        // Display the selected car and its characteristics\n",
    "        System.out.println(\"Selected Car: \" + selectedMake + \" \" + selectedModel);\n",
    "        System.out.println(\"Year: \" + selectedYear);\n",
    "        System.out.println(\"Price: $\" + selectedPrice);\n",
    "    }\n",
    "}\n",
    "CarRegistry.main(null);"
   ]
  },
  {
   "attachments": {},
   "cell_type": "markdown",
   "metadata": {},
   "source": [
    "## Extra Code Using Math.random()\n",
    "- Values returned by Math.random() can be manipualted to produce a random int or double in the defined range\n",
    "- `Math.random()` returns double that is >= 0.0 and < 1.0\n",
    "- Always empty parentheses, can be placed in output statement or assigned to variable"
   ]
  },
  {
   "cell_type": "code",
   "execution_count": 13,
   "metadata": {},
   "outputs": [
    {
     "name": "stdout",
     "output_type": "stream",
     "text": [
      "Selected Car: Toyota Camry\n",
      "Year: 2020\n",
      "Price: $30000.0\n"
     ]
    }
   ],
   "source": [
    "import java.util.Random;\n",
    "\n",
    "public class CarRegistry {\n",
    "    public static void main(String[] args) {\n",
    "        // Define car registry\n",
    "        String[] make = {\"Honda\", \"Toyota\", \"Ford\", \"Chevrolet\", \"BMW\"};\n",
    "        String[] model = {\"Civic\", \"Camry\", \"F-150\", \"Silverado\", \"X5\"};\n",
    "        int[] year = {2015, 2016, 2017, 2018, 2019, 2020};\n",
    "        double[] price = {15000.0, 20000.0, 25000.0, 30000.0, 35000.0, 40000.0};\n",
    "        \n",
    "        // Select a random car from the registry\n",
    "        int index = (int) (Math.random() * make.length);\n",
    "        String selectedMake = make[index];\n",
    "        String selectedModel = model[index];\n",
    "        int selectedYear = year[(int) (Math.random() * year.length)];\n",
    "        double selectedPrice = price[(int) (Math.random() * price.length)];\n",
    "        \n",
    "        // Display the selected car and its characteristics\n",
    "        System.out.println(\"Selected Car: \" + selectedMake + \" \" + selectedModel);\n",
    "        System.out.println(\"Year: \" + selectedYear);\n",
    "        System.out.println(\"Price: $\" + selectedPrice);\n",
    "    }\n",
    "}\n",
    "CarRegistry.main(null);"
   ]
  },
  {
   "attachments": {},
   "cell_type": "markdown",
   "metadata": {},
   "source": [
    "- Instead of using Java's Random class, I used Math.random() to generate a double between 0.0 and 1.0 (not included), and scaled it to the length of the array\n",
    "- I then used (int) to cast the random double to an integer since the index is an integer"
   ]
  },
  {
   "attachments": {},
   "cell_type": "markdown",
   "metadata": {},
   "source": [
    "## Hack 2\n",
    "Create a class named “Car” with the following attributes:\n",
    "\n",
    "make (String) model (String) year (int) price (double) isUsed (boolean) Create a constructor that initializes all of these attributes.\n",
    "\n",
    "Create a method named “printCarDetails()” that prints out all of the attributes of the car.\n",
    "\n",
    "In the main method, create an array of three cars with the following details:\n",
    "\n",
    "Car 1: Make = “Toyota”, Model = “Corolla”, Year = 2022, Price = 24999.99, isUsed = false Car 2: Make = “Honda”, Model = “Accord”, Year = 2018, Price = 18999.99, isUsed = true Car 3: Make = “Ford”, Model = “Mustang”, Year = 2020, Price = 34999.99, isUsed = true Loop through the array and print out the details of each car using the “printCarDetails()” method."
   ]
  },
  {
   "cell_type": "code",
   "execution_count": 3,
   "metadata": {},
   "outputs": [
    {
     "name": "stdout",
     "output_type": "stream",
     "text": [
      "Make: Toyota, Model: Corolla, Year: 2022, Price: 24999.99, isUsed: false\n",
      "Make: Honda, Model: Accord, Year: 2018, Price: 18999.99, isUsed: true\n",
      "Make: Ford, Model: Mustang, Year: 2020, Price: 34999.99, isUsed: true\n"
     ]
    }
   ],
   "source": [
    "public class Car {\n",
    "    // attributes\n",
    "    private String make;\n",
    "    private String model;\n",
    "    private int year;\n",
    "    private double price;\n",
    "    private boolean isUsed;\n",
    "\n",
    "    // create constructor\n",
    "    public Car(String make, String model, int year, double price, boolean isUsed){\n",
    "        // initialize attributes\n",
    "        this.make = make;\n",
    "        this.model = model;\n",
    "        this.year = year;\n",
    "        this.price = price;\n",
    "        this.isUsed = isUsed;\n",
    "    }\n",
    "\n",
    "    public void printCarDetails() {\n",
    "        // method to print car attributes\n",
    "        System.out.println(\"Make: \" + make + \", Model: \" + model + \", Year: \" + year + \", Price: \" + price + \", isUsed: \" + isUsed);\n",
    "    }\n",
    "\n",
    "    public static void main(String[] args) {\n",
    "        // create cars\n",
    "        Car c1 = new Car(\"Toyota\", \"Corolla\", 2022, 24999.99, false);\n",
    "        Car c2 = new Car(\"Honda\", \"Accord\", 2018, 18999.99, true);\n",
    "        Car c3 = new Car(\"Ford\", \"Mustang\", 2020, 34999.99, true);\n",
    "\n",
    "        Car[] arr = new Car[3];\n",
    "        // add cars to array\n",
    "        arr[0] = c1;\n",
    "        arr[1] = c2;\n",
    "        arr[2] = c3;\n",
    "        for(int i = 0; i < 3; i++){ // loop through array\n",
    "            arr[i].printCarDetails();\n",
    "        }\n",
    "    }\n",
    "}\n",
    "Car.main(null);"
   ]
  },
  {
   "attachments": {},
   "cell_type": "markdown",
   "metadata": {},
   "source": [
    "# Unit 3"
   ]
  },
  {
   "attachments": {},
   "cell_type": "markdown",
   "metadata": {},
   "source": [
    "## Boolean Expressions\n",
    "- Evaluates to `true` or `false`\n"
   ]
  },
  {
   "cell_type": "code",
   "execution_count": 14,
   "metadata": {},
   "outputs": [
    {
     "name": "stdout",
     "output_type": "stream",
     "text": [
      "The car is moving fast!\n"
     ]
    }
   ],
   "source": [
    "boolean isEngineRunning = true;\n",
    "int speed = 60;\n",
    "boolean isSpeedAboveThreshold = speed > 50;\n",
    "\n",
    "if (isEngineRunning && isSpeedAboveThreshold) {\n",
    "    System.out.println(\"The car is moving fast!\");\n",
    "} else {\n",
    "    System.out.println(\"The car is not moving fast.\");\n",
    "}"
   ]
  },
  {
   "attachments": {},
   "cell_type": "markdown",
   "metadata": {},
   "source": [
    "## Boolean Operators\n",
    "- && (and), || (or), and ! (not) \n",
    "- Used to create compound boolean expressions\n",
    "- Truth tables can be used to visualize the possible outcomes of different combinations of boolean values and logical operators"
   ]
  },
  {
   "attachments": {},
   "cell_type": "markdown",
   "metadata": {},
   "source": [
    "## Conditionals"
   ]
  },
  {
   "attachments": {},
   "cell_type": "markdown",
   "metadata": {},
   "source": [
    "### If-Else"
   ]
  },
  {
   "cell_type": "code",
   "execution_count": 15,
   "metadata": {},
   "outputs": [
    {
     "name": "stdout",
     "output_type": "stream",
     "text": [
      "Warning: you are above the speed limit!\n"
     ]
    }
   ],
   "source": [
    "int speed = 80;\n",
    "int speedLimit = 60;\n",
    "\n",
    "if (speed > speedLimit) {\n",
    "    System.out.println(\"Warning: you are above the speed limit!\");\n",
    "} else {\n",
    "    System.out.println(\"You are below the speed limit\");\n",
    "\n",
    "}"
   ]
  },
  {
   "attachments": {},
   "cell_type": "markdown",
   "metadata": {},
   "source": [
    "### If-ElseIf-Else"
   ]
  },
  {
   "cell_type": "code",
   "execution_count": 16,
   "metadata": {},
   "outputs": [
    {
     "name": "stdout",
     "output_type": "stream",
     "text": [
      "Driving in slow mode due to low visibility.\n"
     ]
    }
   ],
   "source": [
    "String weather = \"rainy\";\n",
    "int visibility = 30;\n",
    "\n",
    "if (weather.equals(\"sunny\")) {\n",
    "    System.out.println(\"Driving in normal mode.\");\n",
    "} else if (weather.equals(\"rainy\") && visibility < 50) {\n",
    "    System.out.println(\"Driving in slow mode due to low visibility.\");\n",
    "} else if (weather.equals(\"snowy\")) {\n",
    "    System.out.println(\"Driving in snow mode.\");\n",
    "} else {\n",
    "    System.out.println(\"Driving in normal mode.\");\n",
    "}"
   ]
  },
  {
   "attachments": {},
   "cell_type": "markdown",
   "metadata": {},
   "source": [
    "## Comparison Operator\n",
    "\n",
    "- `==`: compares the **memory addresses** of the objects"
   ]
  },
  {
   "cell_type": "code",
   "execution_count": 17,
   "metadata": {},
   "outputs": [
    {
     "name": "stdout",
     "output_type": "stream",
     "text": [
      "car1 and car2 are different objects.\n"
     ]
    }
   ],
   "source": [
    "public class Car2 {\n",
    "    private String make;\n",
    "    private String model;\n",
    "    public Car2(String make, String model) {\n",
    "        this.make = make;\n",
    "        this.model = model;\n",
    "    }\n",
    "    public static void main(String[] args) {\n",
    "        Car2 car1 = new Car2(\"Toyota\", \"Camry\");\n",
    "        Car2 car2 = new Car2(\"Toyota\", \"Camry\");\n",
    "        if (car1 == car2) {\n",
    "            System.out.println(\"car1 and car2 are the same object.\");\n",
    "        } else {\n",
    "            System.out.println(\"car1 and car2 are different objects.\");\n",
    "        }\n",
    "    }\n",
    "}\n",
    "Car2.main(null);"
   ]
  },
  {
   "cell_type": "markdown",
   "metadata": {},
   "source": [
    "## Extra Code to Understand `equals()`"
   ]
  },
  {
   "cell_type": "code",
   "execution_count": 23,
   "metadata": {},
   "outputs": [
    {
     "name": "stdout",
     "output_type": "stream",
     "text": [
      "car1 is not equal to car2\n"
     ]
    }
   ],
   "source": [
    "public class Car{\n",
    "    private String make;\n",
    "    private String model;\n",
    "    private int year;\n",
    "    public Car(String make, String model, int year) {\n",
    "        this.make = make;\n",
    "        this.model = model;\n",
    "        this.year = year;\n",
    "    }\n",
    "    public static void main(String[] args) {\n",
    "        // Create two Car objects\n",
    "        Car car1 = new Car(\"Toyota\", \"Camry\", 2020);\n",
    "        Car car2 = new Car(\"Toyota\", \"Camry\", 2020);\n",
    "    \n",
    "        // Compare using equals() method\n",
    "        if (car1.equals(car2)) {\n",
    "            System.out.println(\"car1 is equal to car2\");\n",
    "        } else {\n",
    "            System.out.println(\"car1 is not equal to car2\");\n",
    "        }\n",
    "    }\n",
    "}\n",
    "Car.main(null);"
   ]
  },
  {
   "attachments": {},
   "cell_type": "markdown",
   "metadata": {},
   "source": [
    "I originally thought the two cars would be considered equal. But this was a mistake in my understanding since the **equals method inherits from the Object class** to check for reference equality (i.e., whether two objects are the same object in memory), not whether they have the same property values"
   ]
  },
  {
   "attachments": {},
   "cell_type": "markdown",
   "metadata": {},
   "source": [
    "## Extra Code to Explain `==` vs `equals()`\n",
    "- `equals()` compares content, not the references (**FOR STRINGS!!!**)"
   ]
  },
  {
   "cell_type": "code",
   "execution_count": 19,
   "metadata": {},
   "outputs": [
    {
     "name": "stdout",
     "output_type": "stream",
     "text": [
      "true\n",
      "false\n",
      "true\n",
      "true\n"
     ]
    }
   ],
   "source": [
    "public class Main {\n",
    "    public static void main(String[] args) {\n",
    "        String str1 = \"Hello\";\n",
    "        String str2 = \"Hello\";\n",
    "        String str3 = new String(\"Hello\");\n",
    "\n",
    "        // Using == operator to compare the references\n",
    "        System.out.println(str1 == str2); // true\n",
    "        System.out.println(str1 == str3); // false\n",
    "\n",
    "        // Using String.equals method to compare the contents\n",
    "        System.out.println(str1.equals(str2)); // true\n",
    "        System.out.println(str1.equals(str3)); // true\n",
    "    }\n",
    "}\n",
    "Main.main(null);"
   ]
  },
  {
   "attachments": {},
   "cell_type": "markdown",
   "metadata": {},
   "source": [
    "- `str1` and `str3` refer to two different memory locations\n",
    "- `str1` is created using a string literal, which means that the Java compiler creates a **single String object in memory for the string literal \"Hello\"** and assigns a reference to that object to `str1`\n",
    "- when `str2` is created, it is assigned the same string literal so the Java compiler assigns `str2` to the same reference"
   ]
  },
  {
   "attachments": {},
   "cell_type": "markdown",
   "metadata": {},
   "source": [
    "## `String.equals()`\n",
    "- String class in Java overrides the equals method inherited from the Object class\n",
    "   - So the equals() method for Strings compares content instead of memory location"
   ]
  },
  {
   "attachments": {},
   "cell_type": "markdown",
   "metadata": {},
   "source": [
    "## Hack 3\n",
    "Create a Car object named myCar with the following details:\n",
    "Make: “Toyota”\n",
    "Model: “Camry”\n",
    "Year: 2019\n",
    "Price: 25000.0\n",
    "Print the car details using the getMake(), getModel(), getYear(), and getPrice() methods.\n",
    "\n",
    "Check if the car is affordable within a budget of $20000 using the isAffordable() method and print the result using if-else statement.\n",
    "\n",
    "Determine and print the car’s classification based on its price using if-else-if statement:\n",
    "\n",
    "If the price is greater than $50000, print “The car is a luxury car.”\n",
    "If the price is greater than $30000, print “The car is a mid-range car.”\n",
    "Otherwise, print “The car is an affordable car.”"
   ]
  },
  {
   "cell_type": "code",
   "execution_count": 6,
   "metadata": {},
   "outputs": [
    {
     "name": "stdout",
     "output_type": "stream",
     "text": [
      "Make: Toyota, Model: Camry, Year: 2019, Price: 25000.0\n",
      "not affordable\n",
      "Classification: \n",
      "\tnot affordable\n"
     ]
    }
   ],
   "source": [
    "public class Car{\n",
    "    private String make;\n",
    "    private String model;\n",
    "    private int year;\n",
    "    private double price;\n",
    "    \n",
    "    // Constructor\n",
    "    public Car(String make, String model, int year, double price) {\n",
    "        this.make = make;\n",
    "        this.model = model;\n",
    "        this.year = year;\n",
    "        this.price = price;\n",
    "    }\n",
    "    \n",
    "    // Getter methods\n",
    "    public String getMake() {\n",
    "        return make;\n",
    "    }\n",
    "    \n",
    "    public String getModel() {\n",
    "        return model;\n",
    "    }\n",
    "    \n",
    "    public int getYear() {\n",
    "        return year;\n",
    "    }\n",
    "    \n",
    "    public double getPrice() {\n",
    "        return price;\n",
    "    }\n",
    "    \n",
    "    // Method to determine if the car is affordable or not\n",
    "    public boolean isAffordable(double budget) {\n",
    "        if (price <= budget) {\n",
    "            return true;\n",
    "        } else {\n",
    "            return false;\n",
    "        }\n",
    "    }\n",
    "    \n",
    "    // Main method\n",
    "    public static void main(String[] args) {\n",
    "        // Create a new Car object\n",
    "        Car myCar = new Car(\"Toyota\", \"Camry\", 2019, 25000.0);\n",
    "\n",
    "        // Print the car details\n",
    "        System.out.println(\"Make: \" + myCar.getMake() + \", Model: \" + myCar.getModel() + \", Year: \" + myCar.getYear() + \", Price: \" + myCar.getPrice());\n",
    "        \n",
    "        // Check if the car is affordable with a budget of $20000 using an if-else statement\n",
    "        if(myCar.isAffordable(20000)){\n",
    "            System.out.println(\"affordable\");\n",
    "        }\n",
    "        else{\n",
    "            System.out.println(\"not affordable\");\n",
    "        }        \n",
    "        \n",
    "        System.out.println(\"Classification: \");\n",
    "        // Check if the car is a luxury car based on its price using if-else-if statement\n",
    "        if(myCar.price > 50000){\n",
    "            System.out.println(\"\\tluxury car\");\n",
    "        } else if(myCar.price > 30000){\n",
    "            System.out.println(\"\\tmid-range car\");\n",
    "        } else if(myCar.isAffordable(20000)){\n",
    "            System.out.println(\"\\taffordable\");\n",
    "        } else{\n",
    "            System.out.println(\"\\tnot affordable\");\n",
    "        }        \n",
    "    }\n",
    "}\n",
    "Car.main(null);"
   ]
  },
  {
   "attachments": {},
   "cell_type": "markdown",
   "metadata": {},
   "source": [
    "# Unit 4"
   ]
  },
  {
   "attachments": {},
   "cell_type": "markdown",
   "metadata": {},
   "source": [
    "## Iteration\n",
    "### For Loops\n",
    "- Specify the number of times a block of code should be executed"
   ]
  },
  {
   "cell_type": "code",
   "execution_count": 29,
   "metadata": {},
   "outputs": [
    {
     "name": "stdout",
     "output_type": "stream",
     "text": [
      "Lap 1 completed!\n",
      "Lap 2 completed!\n",
      "Lap 3 completed!\n",
      "Lap 4 completed!\n",
      "Lap 5 completed!\n"
     ]
    }
   ],
   "source": [
    "for (int lap = 1; lap <= 5; lap++) { // for 5 laps\n",
    "    System.out.println(\"Lap \" + lap + \" completed!\"); // print lap number\n",
    "}"
   ]
  },
  {
   "attachments": {},
   "cell_type": "markdown",
   "metadata": {},
   "source": [
    "### While Loops\n",
    "- Execute condition as long as a condition is true\n",
    "- **Issue**:\n",
    "    - loop condition that is always true ==> Can easily crash a computer server and should be avoided\n",
    "    - If the loop conditions are always false, then the loop will never run and the body is skipped"
   ]
  },
  {
   "cell_type": "code",
   "execution_count": 28,
   "metadata": {},
   "outputs": [
    {
     "name": "stdout",
     "output_type": "stream",
     "text": [
      "Fuel level: 50 liters\n",
      "Fuel level: 40 liters\n",
      "Fuel level: 30 liters\n",
      "Fuel level: 20 liters\n",
      "Fuel level: 10 liters\n"
     ]
    }
   ],
   "source": [
    "int fuelLevel = 50; // initial fuel level of the car\n",
    "\n",
    "while (fuelLevel > 0) { // while there is still fuel\n",
    "    System.out.println(\"Fuel level: \" + fuelLevel + \" liters\"); // print current fuel level\n",
    "    fuelLevel -= 10; // decrease fuel level by 10 liters\n",
    "}"
   ]
  },
  {
   "attachments": {},
   "cell_type": "markdown",
   "metadata": {},
   "source": [
    "### Nested Iteration"
   ]
  },
  {
   "cell_type": "code",
   "execution_count": 30,
   "metadata": {},
   "outputs": [
    {
     "name": "stdout",
     "output_type": "stream",
     "text": [
      "Lane 1, Car 1\n",
      "Lane 1, Car 2\n",
      "Lane 1, Car 3\n",
      "Lane 1, Car 4\n",
      "Lane 2, Car 1\n",
      "Lane 2, Car 2\n",
      "Lane 2, Car 3\n",
      "Lane 2, Car 4\n",
      "Lane 3, Car 1\n",
      "Lane 3, Car 2\n",
      "Lane 3, Car 3\n",
      "Lane 3, Car 4\n"
     ]
    }
   ],
   "source": [
    "for (int lane = 1; lane <= 3; lane++) { // for 3 lanes\n",
    "    for (int car = 1; car <= 4; car++) { // for 4 cars in each lane\n",
    "        System.out.println(\"Lane \" + lane + \", Car \" + car); // print lane and car number\n",
    "    }\n",
    "}"
   ]
  },
  {
   "attachments": {},
   "cell_type": "markdown",
   "metadata": {},
   "source": [
    "### Break and Continue Statements\n",
    "- `break`: immediately exit loop\n",
    "- `continue`: jump to next iteration"
   ]
  },
  {
   "attachments": {},
   "cell_type": "markdown",
   "metadata": {},
   "source": [
    "## Try-Catch and Exceptions\n",
    "- Exceptions mean something is wrong with code during run time\n",
    "- Try-catch statements prevent program from crashing, exception is caught and will execute the catch block instead of stopping"
   ]
  },
  {
   "cell_type": "code",
   "execution_count": 31,
   "metadata": {},
   "outputs": [
    {
     "name": "stdout",
     "output_type": "stream",
     "text": [
      "Lap 1 completed!\n",
      "Lap 2 completed!\n",
      "Car broke down on lap 3!\n"
     ]
    }
   ],
   "source": [
    "for (int lap = 1; lap <= 5; lap++) { // for 5 laps\n",
    "    if (lap == 3) {\n",
    "        System.out.println(\"Car broke down on lap \" + lap + \"!\");\n",
    "        break; // exit the loop if car breaks down\n",
    "    } else if (lap == 4) {\n",
    "        System.out.println(\"Car went off-track on lap \" + lap + \"!\");\n",
    "        continue; // skip current iteration and move on to next lap\n",
    "    }\n",
    "    System.out.println(\"Lap \" + lap + \" completed!\"); // print lap number\n",
    "}"
   ]
  },
  {
   "attachments": {},
   "cell_type": "markdown",
   "metadata": {},
   "source": [
    "### Arithmetic Exception\n",
    "- Division by 0"
   ]
  },
  {
   "cell_type": "code",
   "execution_count": 32,
   "metadata": {},
   "outputs": [],
   "source": [
    "public class Car {\n",
    "    private String make;\n",
    "    private int year;\n",
    "\n",
    "    public Car(String make, int year) {\n",
    "        this.make = make;\n",
    "        this.year = year;\n",
    "    }\n",
    "\n",
    "    public void displayCarInfo() {\n",
    "        System.out.println(\"Make: \" + make);\n",
    "        System.out.println(\"Year: \" + year);\n",
    "    }\n",
    "}\n",
    "\n",
    "public class Main {\n",
    "    public static void main(String[] args) {\n",
    "        try {\n",
    "            Car car = new Car(\"Toyota\", 2020); // Creating a car object\n",
    "            car.displayCarInfo(); // Displaying car information\n",
    "            int speed = 100 / 0; // Trying to divide by zero to simulate an error\n",
    "        } catch (ArithmeticException e) {\n",
    "            System.out.println(\"Error: Division by zero!\"); // Catching and handling the exception\n",
    "        }\n",
    "    }\n",
    "}"
   ]
  },
  {
   "attachments": {},
   "cell_type": "markdown",
   "metadata": {},
   "source": [
    "## Hack 4\n",
    "\n",
    "You are tasked with creating a program that allows a user to enter the number of cars they own, and then input the make and model of each car. The program will then print out the list of cars.\n",
    "\n",
    "Here are the specific requirements:\n",
    "\n",
    "Use a try-catch statement to catch any input/output exceptions that may occur.\n",
    "Use a while loop to ensure that the user enters a positive integer for the number of cars they own.\n",
    "Use a for loop to iterate over each car and prompt the user to enter the make and model of the car."
   ]
  },
  {
   "cell_type": "code",
   "execution_count": 7,
   "metadata": {},
   "outputs": [],
   "source": [
    "public class Car{\n",
    "    private String make;\n",
    "    private String model;\n",
    "    private double price;\n",
    "    private double split;\n",
    "    \n",
    "    // Constructor\n",
    "    public Car(String make, String model, double price) {\n",
    "        this.make = make;\n",
    "        this.model = model;\n",
    "        this.price = price;\n",
    "    }\n",
    "    \n",
    "    // Getter methods\n",
    "    public String getMake() {\n",
    "        return make;\n",
    "    }\n",
    "    \n",
    "    public String getModel() {\n",
    "        return model;\n",
    "    }\n",
    "\n",
    "    public double getPrice(){\n",
    "        return price;\n",
    "    }\n",
    "\n",
    "    public void setSplit(double split){\n",
    "        this.split = split;\n",
    "    }\n",
    "\n",
    "    public String toString(){\n",
    "        return \"Make: \" + make + \", Model: \" + model + \", Price: \" + price + \", Split Price: \" + split;\n",
    "    }\n",
    "}"
   ]
  },
  {
   "cell_type": "code",
   "execution_count": 10,
   "metadata": {},
   "outputs": [
    {
     "name": "stdout",
     "output_type": "stream",
     "text": [
      "How many cars do you own? \n",
      "You own 1 cars\n",
      "Enter the make of car #1: \n",
      "Make: Toyota\n",
      "Enter the model of car #1: \n",
      "Model: Camry\n",
      "Price of car #1: Price: 800.0\n",
      "How many people are paying for the car? List of cars:\n",
      "Make: Toyota, Model: Camry, Price: 800.0, Split Price: 100.0\n"
     ]
    }
   ],
   "source": [
    "import java.util.Scanner;\n",
    "\n",
    "public class CarList {\n",
    "    public static void main(String[] args){ \n",
    "        // ask the user for the number of cars they own\n",
    "        Scanner input = new Scanner(System.in);\n",
    "        System.out.println(\"How many cars do you own? \");\n",
    "        int numCars = input.nextInt();\n",
    "\n",
    "        // check to make sure valid input\n",
    "        if(numCars > 0){\n",
    "            System.out.println(\"You own \" + numCars + \" cars\");\n",
    "            // create an array to hold the make and model of each car\n",
    "            Car[] carList = new Car[numCars];\n",
    "\n",
    "            // loop through the number of cars and ask for the make and model of each one\n",
    "            for (int i = 0; i < numCars; i++) {\n",
    "                System.out.println(\"Enter the make of car #\" + (i+1) + \": \");\n",
    "                String make = input.next();\n",
    "                System.out.println(\"Make: \" + make);\n",
    "                System.out.println(\"Enter the model of car #\" + (i+1) + \": \");\n",
    "                String model = input.next();\n",
    "                System.out.println(\"Model: \" + model);\n",
    "                System.out.print(\"Price of car #\" + (i+1) + \": \");\n",
    "                double price = 0;\n",
    "                try{ // ensure valid user input\n",
    "                    price = input.nextInt();\n",
    "                    System.out.println(\"Price: \" + price);\n",
    "                } catch(InputMismatchException e){\n",
    "                    System.out.println(\"You must input an integer or decimal number\");\n",
    "                }\n",
    "                carList[i] = new Car(make, model, price);\n",
    "                System.out.print(\"How many people are paying for the car? \");\n",
    "                int ppl = input.nextInt();\n",
    "                double split = 0;\n",
    "                try { // in case the user says no one will pay for car :(((\n",
    "                    split = price / ppl;\n",
    "                } catch(ArithmeticException e){\n",
    "                    System.out.println(\"Can't divide by 0 people\");\n",
    "                }\n",
    "                carList[i].setSplit(split);\n",
    "                input.reset();\n",
    "            }\n",
    "            // print out the list of cars\n",
    "            System.out.println(\"List of cars:\");\n",
    "            for (Car car: carList) {\n",
    "                System.out.println(car);\n",
    "            }\n",
    "        } else if(numCars == 0){\n",
    "            System.out.println(\"You don't own any cars. Come back when you get a car :)))\");\n",
    "        }\n",
    "        else{\n",
    "            System.out.println(\"Need positive integer for numebr of cars owned\");\n",
    "        }\n",
    "        input.close();\n",
    "    }\n",
    "    \n",
    "}\n",
    "CarList.main(null);"
   ]
  }
 ],
 "metadata": {
  "kernelspec": {
   "display_name": "Java",
   "language": "java",
   "name": "java"
  },
  "language_info": {
   "codemirror_mode": "java",
   "file_extension": ".jshell",
   "mimetype": "text/x-java-source",
   "name": "java",
   "pygments_lexer": "java",
   "version": "18.0.2+9-61"
  },
  "orig_nbformat": 4
 },
 "nbformat": 4,
 "nbformat_minor": 2
}
