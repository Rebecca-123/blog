{
 "cells": [
  {
   "cell_type": "markdown",
   "metadata": {},
   "source": [
    "# FRQs\n",
    "- toc: true \n",
    "- badges: true\n",
    "- comments: true\n",
    "- categories: [apr]"
   ]
  },
  {
   "attachments": {},
   "cell_type": "markdown",
   "metadata": {},
   "source": [
    "## Methods and Control Structures (2019)\n",
    "[Key](https://apcentral.collegeboard.org/media/pdf/ap-computer-science-a-2019-ced-scoring-guidelines.pdf)"
   ]
  },
  {
   "attachments": {},
   "cell_type": "markdown",
   "metadata": {},
   "source": [
    "![](images/mcs-a.png)"
   ]
  },
  {
   "attachments": {},
   "cell_type": "markdown",
   "metadata": {},
   "source": [
    "![](images/mcs-b.png)"
   ]
  },
  {
   "cell_type": "code",
   "execution_count": 36,
   "metadata": {
    "vscode": {
     "languageId": "java"
    }
   },
   "outputs": [
    {
     "name": "stdout",
     "output_type": "stream",
     "text": [
      "Testing getNumberOfDigits() and getDigit():\n",
      "\t79 has 2 digits.\n",
      "\tThe first digit of 79 is 7\n",
      "\t71 has 2 digits.\n",
      "\tThe first digit of 71 is 7\n",
      "\t85 has 2 digits.\n",
      "\tThe first digit of 85 is 8\n",
      "\t70 has 2 digits.\n",
      "\tThe first digit of 70 is 7\n",
      "\t6 has 1 digits.\n",
      "\tThe first digit of 6 is 6\n",
      "\t55 has 2 digits.\n",
      "\tThe first digit of 55 is 5\n",
      "\t73 has 2 digits.\n",
      "\tThe first digit of 73 is 7\n",
      "\t4 has 1 digits.\n",
      "\tThe first digit of 4 is 4\n",
      "\t67 has 2 digits.\n",
      "\tThe first digit of 67 is 6\n",
      "\t73 has 2 digits.\n",
      "\tThe first digit of 73 is 7\n",
      "\t74 has 2 digits.\n",
      "\tThe first digit of 74 is 7\n",
      "\t80 has 2 digits.\n",
      "\tThe first digit of 80 is 8\n",
      "\t74 has 2 digits.\n",
      "\tThe first digit of 74 is 7\n",
      "\t3 has 1 digits.\n",
      "\tThe first digit of 3 is 3\n",
      "\t61 has 2 digits.\n",
      "\tThe first digit of 61 is 6\n",
      "\t99 has 2 digits.\n",
      "\tThe first digit of 99 is 9\n",
      "\t12 has 2 digits.\n",
      "\tThe first digit of 12 is 1\n",
      "\t80 has 2 digits.\n",
      "\tThe first digit of 80 is 8\n",
      "\t26 has 2 digits.\n",
      "\tThe first digit of 26 is 2\n",
      "\t53 has 2 digits.\n",
      "\tThe first digit of 53 is 5\n",
      "Sums of Products: 106\n",
      "6\n",
      "Sums of Products: 72\n",
      "2\n",
      "Sums of Products: 82\n",
      "true\n",
      "Sums of Products: 82\n",
      "false\n"
     ]
    }
   ],
   "source": [
    "public class CheckDigit {\n",
    "    /** Returns the check digit for num, as described in part (a).\n",
    "    * Precondition: The number of digits in num is between one and six, inclusive.\n",
    "    * num >= 0\n",
    "    */\n",
    "    public static int getCheck(int num){\n",
    "        int product = 0;\n",
    "        int count = 7;\n",
    "        for(int i = 1; i <= getNumberOfDigits(num); i++){\n",
    "            product += getDigit(num, i) * count;\n",
    "            count --;\n",
    "        }\n",
    "        System.out.println(\"Sums of Products: \" + product);\n",
    "        return(getDigit(product, getNumberOfDigits(product)));\n",
    "    }\n",
    "\n",
    "    /** Returns true if numWithCheckDigit is valid, or false otherwise, as described in part (b).\n",
    "     * Precondition: The number of digits in numWithCheckDigit is between two and seven, inclusive.\n",
    "    * numWithCheckDigit >= 0\n",
    "    */\n",
    "    public static boolean isValid(int numWithCheckDigit){\n",
    "        int number = numWithCheckDigit / 10;\n",
    "        int check = numWithCheckDigit % 10;\n",
    "        if(getCheck(number) == check){\n",
    "            return true;\n",
    "        }\n",
    "        return false;\n",
    "    }\n",
    "\n",
    "    /** Returns the number of digits in num. */\n",
    "    public static int getNumberOfDigits(int num){\n",
    "        return (int)(Math.log10(num) + 1);\n",
    "    }\n",
    "\n",
    "    /** Returns the nth digit of num.\n",
    "    * Precondition: n >= 1 and n <= the number of digits in num\n",
    "    */\n",
    "    public static int getDigit(int num, int n){\n",
    "        return (int) (num / Math.pow(10, getNumberOfDigits(num)-n) % 10);      \n",
    "    }\n",
    "\n",
    "    public static void main(String[] args) {\n",
    "        System.out.println(\"Testing getNumberOfDigits() and getDigit():\");\n",
    "        for(int i = 0; i < 20; i++){\n",
    "            int number = (int) (Math.random() * 100 + 1);\n",
    "            System.out.println(\"\\t\" + number + \" has \" + getNumberOfDigits(number) + \" digits.\");\n",
    "            System.out.println(\"\\t\" + \"The first digit of \" + number + \" is \" + getDigit(number, 1));\n",
    "        }\n",
    "        System.out.println(getCheck(283415));\n",
    "        System.out.println(getCheck(2183));\n",
    "        System.out.println(isValid(1592));\n",
    "        System.out.println(isValid(1593));\n",
    "    }\n",
    "}\n",
    "CheckDigit.main(null);"
   ]
  },
  {
   "attachments": {},
   "cell_type": "markdown",
   "metadata": {},
   "source": [
    "## Classes"
   ]
  },
  {
   "attachments": {},
   "cell_type": "markdown",
   "metadata": {},
   "source": [
    "![](images/class.png)"
   ]
  },
  {
   "cell_type": "code",
   "execution_count": 44,
   "metadata": {
    "vscode": {
     "languageId": "java"
    }
   },
   "outputs": [
    {
     "name": "stdout",
     "output_type": "stream",
     "text": [
      "2\n",
      "5\n",
      "11\n",
      "2\n",
      "2\n"
     ]
    }
   ],
   "source": [
    "public class AdditionPattern{\n",
    "    private int a;\n",
    "    private int b;\n",
    "    private int num;\n",
    "\n",
    "    public AdditionPattern(int a, int b){\n",
    "        this.a = a;\n",
    "        this.b = b;\n",
    "        this.num = a;\n",
    "    }\n",
    "    public int currentNumber(){\n",
    "        return num;\n",
    "    }\n",
    "    public void next(){\n",
    "        this.num += b;\n",
    "    }\n",
    "    public void prev(){\n",
    "        if(this.num != a){\n",
    "            this.num -= b;\n",
    "        }\n",
    "    }\n",
    "    public static void main(String[] args) {\n",
    "        AdditionPattern plus3 = new AdditionPattern(2, 3);\n",
    "        System.out.println(plus3.currentNumber());\n",
    "        plus3.next();\n",
    "        System.out.println(plus3.currentNumber());\n",
    "        plus3.next();\n",
    "        plus3.next();\n",
    "        System.out.println(plus3.currentNumber());\n",
    "        plus3.prev();\n",
    "        plus3.prev();\n",
    "        plus3.prev();\n",
    "        System.out.println(plus3.currentNumber());\n",
    "        plus3.prev();\n",
    "        System.out.println(plus3.currentNumber());\n",
    "    }\n",
    "}\n",
    "AdditionPattern.main(null);"
   ]
  },
  {
   "attachments": {},
   "cell_type": "markdown",
   "metadata": {},
   "source": [
    "## Array/ArrayList\n",
    "[Key](https://apcentral.collegeboard.org/media/pdf/ap21-apc-computer-science-a-q3.pdf)"
   ]
  },
  {
   "cell_type": "code",
   "execution_count": 24,
   "metadata": {
    "vscode": {
     "languageId": "java"
    }
   },
   "outputs": [],
   "source": [
    "public class MemberInfo{\n",
    "    private String name;\n",
    "    private int gradYear;\n",
    "    private boolean hasGoodStanding;\n",
    "\n",
    "    /** Constructs a MemberInfo object for the club member with name\n",
    "    * name, graduation year gradYear, and standing hasGoodStanding.\n",
    "    */\n",
    "    public MemberInfo(String name, int gradYear, boolean hasGoodStanding){\n",
    "        this.name = name;\n",
    "        this.gradYear = gradYear;\n",
    "        this.hasGoodStanding = hasGoodStanding;\n",
    "    }\n",
    "\n",
    "    /** Returns the graduation year of the club member. */\n",
    "    public int getGradYear(){\n",
    "        return gradYear;\n",
    "    }\n",
    "\n",
    "    /** Returns true if the member is in good standing and false\n",
    "    * otherwise.\n",
    "    */\n",
    "    public boolean inGoodStanding(){\n",
    "        return hasGoodStanding;\n",
    "    }\n",
    "\n",
    "    public String toString(){\n",
    "        return \"Name: \" + name + \", Grad Year: \" + gradYear + \", Standing: \" + hasGoodStanding;\n",
    "    }\n",
    "}"
   ]
  },
  {
   "attachments": {},
   "cell_type": "markdown",
   "metadata": {},
   "source": [
    "![](images/array-arraylist.png)"
   ]
  },
  {
   "cell_type": "code",
   "execution_count": 27,
   "metadata": {
    "vscode": {
     "languageId": "java"
    }
   },
   "outputs": [
    {
     "name": "stdout",
     "output_type": "stream",
     "text": [
      "removeMembers(2018):\n",
      "\tName: Fox, Steve, Grad Year: 2018, Standing: true\n",
      "Remaining Members:\n",
      "\tName: Smith, Jane, Grad Year: 2019, Standing: false\n",
      "\tName: Garcia, Maria, Grad Year: 2020, Standing: true\n"
     ]
    }
   ],
   "source": [
    "public class ClubMembers{\n",
    "    private ArrayList<MemberInfo> memberList;\n",
    "    private ArrayList<MemberInfo> gradStanding = new ArrayList<MemberInfo>();\n",
    "\n",
    "    public ClubMembers(){\n",
    "        memberList = new ArrayList<MemberInfo>();\n",
    "    }\n",
    "\n",
    "    /** Adds new club members to memberList, as described in part (a).\n",
    "    * Precondition: names is a non-empty array.\n",
    "    */\n",
    "    public void addMembers(String[] names, int gradYear){\n",
    "        for(String name: names){\n",
    "            memberList.add(new MemberInfo(name, gradYear, true));\n",
    "        }\n",
    "    }\n",
    "\n",
    "    /** Removes members who have graduated and returns a list of\n",
    "    * members who have graduated and are in good standing,\n",
    "    * as described in part (b).\n",
    "    */\n",
    "    public ArrayList<MemberInfo> removeMembers(int year){\n",
    "        for(int i = 0; i < memberList.size(); i++){\n",
    "            if(memberList.get(i).getGradYear() <= year){\n",
    "                if(memberList.get(i).inGoodStanding()){\n",
    "                    gradStanding.add(memberList.get(i));\n",
    "                }\n",
    "                memberList.remove(i);\n",
    "                i--;\n",
    "            }\n",
    "        }\n",
    "        return gradStanding;\n",
    "    }\n",
    "    public static void main(String[] args) {\n",
    "        ClubMembers cm = new ClubMembers();\n",
    "        MemberInfo m1 = new MemberInfo(\"Smith, Jane\", 2019, false);\n",
    "        MemberInfo m2 = new MemberInfo(\"Fox, Steve\", 2018, true);\n",
    "        MemberInfo m3 = new MemberInfo(\"Xin, Michael\", 2017, false);\n",
    "        MemberInfo m4 = new MemberInfo(\"Garcia, Maria\", 2020, true);\n",
    "        cm.memberList.add(m1);\n",
    "        cm.memberList.add(m2);\n",
    "        cm.memberList.add(m3);\n",
    "        cm.memberList.add(m4);\n",
    "        cm.removeMembers(2018);\n",
    "        System.out.println(\"removeMembers(2018):\");\n",
    "        for(int i = 0; i < cm.gradStanding.size(); i++){\n",
    "            System.out.println(\"\\t\" + cm.gradStanding.get(i));\n",
    "        }\n",
    "        System.out.println(\"Remaining Members:\");\n",
    "        for(int i = 0; i < cm.memberList.size(); i++){\n",
    "            System.out.println( \"\\t\" + cm.memberList.get(i));\n",
    "        }\n",
    "    }\n",
    "}\n",
    "ClubMembers.main(null);"
   ]
  },
  {
   "attachments": {},
   "cell_type": "markdown",
   "metadata": {},
   "source": [
    "## 2D Array\n",
    "\n",
    "[Key](https://apcentral.collegeboard.org/media/pdf/ap21-sg-computer-science-a.pdf)"
   ]
  },
  {
   "attachments": {},
   "cell_type": "markdown",
   "metadata": {},
   "source": [
    "![](images/2darraya.png)"
   ]
  },
  {
   "attachments": {},
   "cell_type": "markdown",
   "metadata": {},
   "source": [
    "![](images/2darrayb.png)"
   ]
  },
  {
   "cell_type": "code",
   "execution_count": 45,
   "metadata": {
    "vscode": {
     "languageId": "java"
    }
   },
   "outputs": [
    {
     "name": "stdout",
     "output_type": "stream",
     "text": [
      "Testing isNonZeroRow(int [][] array2D, int r):\n",
      "false\n",
      "true\n",
      "false\n",
      "true\n",
      "\n",
      "Testing numNonZeroRows():\n",
      "2\n",
      "\n",
      "New Array:\n",
      "132456"
     ]
    }
   ],
   "source": [
    "public class ArrayResizer{\n",
    "    /** Returns true if and only if every value in row r of array2D\n",
    "    * is non-zero.\n",
    "    * Precondition: r is a valid row index in array2D.\n",
    "    * Postcondition: array2D is unchanged.\n",
    "    */\n",
    "    public static boolean isNonZeroRow(int[][] array2D, int r){\n",
    "        for(int num: array2D[r]){\n",
    "            if(num > 0){\n",
    "                continue;\n",
    "            }\n",
    "            else{\n",
    "                return false;\n",
    "            }\n",
    "        }\n",
    "        return true;\n",
    "    }\n",
    "    /** Returns the number of rows in array2D that contain all\n",
    "    * non-zero values.\n",
    "    * Postcondition: array2D is unchanged.\n",
    "    */\n",
    "    public static int numNonZeroRows(int[][] array2D){\n",
    "        int count = 0;\n",
    "        int i = 0;\n",
    "        for(int[] arr: array2D){\n",
    "            if(isNonZeroRow(array2D, i)){\n",
    "                count++;\n",
    "            }\n",
    "            i++;\n",
    "        }\n",
    "        return count;\n",
    "    }\n",
    "    /** Returns a new, possibly smaller, two-dimensional array that\n",
    "    * contains only rows from array2D with no zeros, as described\n",
    "    * in part (b).\n",
    "    * Precondition: array2D contains at least one column\n",
    "    * and at least one row with no zeros.\n",
    "    * Postcondition: array2D is unchanged.\n",
    "    */\n",
    "    public static int[][] resize(int[][] array2D){\n",
    "        int[][] noZero = new int[numNonZeroRows(array2D)][array2D[0].length];\n",
    "        int j = 0;\n",
    "        int k = 0;\n",
    "        for(int[] arr: array2D){\n",
    "            if(isNonZeroRow(array2D, j)){\n",
    "                noZero[k] = arr;\n",
    "                k++;\n",
    "            }\n",
    "            j++;\n",
    "        }\n",
    "        return noZero;\n",
    "    }\n",
    "\n",
    "    public static void main(String[] args) {\n",
    "        System.out.println(\"Testing isNonZeroRow(int [][] array2D, int r):\");\n",
    "        int[][] arr = {{2, 1, 0}, \n",
    "                        {1, 3, 2},\n",
    "                        {0, 0, 0},\n",
    "                        {4, 5, 6}};\n",
    "        System.out.println(isNonZeroRow(arr, 0));\n",
    "        System.out.println(isNonZeroRow(arr, 1));\n",
    "        System.out.println(isNonZeroRow(arr, 2));\n",
    "        System.out.println(isNonZeroRow(arr, 3) + \"\\n\");\n",
    "        System.out.println(\"Testing numNonZeroRows():\");\n",
    "        System.out.println(numNonZeroRows(arr) + \"\\n\");\n",
    "        int[][] smaller = resize(arr);\n",
    "        System.out.println(\"New Array:\");\n",
    "        for(int x = 0; x < smaller.length; x++){\n",
    "            for(int y = 0; y < smaller[0].length; y++){\n",
    "                System.out.print(smaller[x][y] + \" \");\n",
    "            }\n",
    "            System.out.println();\n",
    "        }\n",
    "    }\n",
    "}\n",
    "ArrayResizer.main(null);"
   ]
  }
 ],
 "metadata": {
  "kernelspec": {
   "display_name": "Java",
   "language": "java",
   "name": "java"
  },
  "language_info": {
   "codemirror_mode": "java",
   "file_extension": ".jshell",
   "mimetype": "text/x-java-source",
   "name": "Java",
   "pygments_lexer": "java",
   "version": "18.0.2+9-61"
  },
  "orig_nbformat": 4
 },
 "nbformat": 4,
 "nbformat_minor": 2
}
