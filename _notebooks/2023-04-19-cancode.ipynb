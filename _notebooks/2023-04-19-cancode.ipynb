{
 "cells": [
  {
   "attachments": {},
   "cell_type": "markdown",
   "metadata": {},
   "source": [
    "# Units 5, 9-10 Review\n",
    "- toc: true \n",
    "- badges: true\n",
    "- comments: true\n",
    "- categories: [apr, cancode]"
   ]
  },
  {
   "attachments": {},
   "cell_type": "markdown",
   "metadata": {},
   "source": [
    "# See TOC for Direct Links to Hacks and Extra Code\n",
    "- They are embedded throughout with the lesson notes"
   ]
  },
  {
   "attachments": {},
   "cell_type": "markdown",
   "metadata": {},
   "source": [
    "# Unit 5: Writing Classes"
   ]
  },
  {
   "attachments": {},
   "cell_type": "markdown",
   "metadata": {},
   "source": [
    "- Class: blueprint for creating objects, which have attributes and methods\n",
    "   - Class declaration: scope, class name\n",
    "      - Scope: public vs private\n",
    "         - public: accessible anywhere\n",
    "         - private: only accessible within the class\n",
    "         - Classes are usually all declared as public, instance variables are usually private\n",
    "         - Methods are generally public\n",
    "         - Constructors are always **public**\n",
    "            - Must be used to create the object\n",
    "   - Class body: contains instance variables (store data) and methods (define behavior of object, may return value)\n",
    "- Methods: can take arguments, can be overloaded\n",
    "- Constructors\n",
    "   - Initialize attributes\n",
    "   - Same name of class\n",
    "   - No return type"
   ]
  },
  {
   "cell_type": "code",
   "execution_count": 4,
   "metadata": {},
   "outputs": [],
   "source": [
    "public class ClassName {\n",
    "    // Class body\n",
    "}"
   ]
  },
  {
   "cell_type": "code",
   "execution_count": 5,
   "metadata": {},
   "outputs": [],
   "source": [
    "public class Person {\n",
    "    String name;\n",
    "    int age;\n",
    "    double height;\n",
    "    String Race;\n",
    "}"
   ]
  },
  {
   "cell_type": "code",
   "execution_count": 6,
   "metadata": {},
   "outputs": [],
   "source": [
    "public class Calculator {\n",
    "    public int add(int a, int b) {\n",
    "        return a + b;\n",
    "    }\n",
    "\n",
    "    public double add(double a, double b) {\n",
    "        return a + b;\n",
    "    }\n",
    "}"
   ]
  },
  {
   "attachments": {},
   "cell_type": "markdown",
   "metadata": {},
   "source": [
    "### Extra Code to Test Method Overloading"
   ]
  },
  {
   "cell_type": "code",
   "execution_count": 13,
   "metadata": {},
   "outputs": [
    {
     "name": "stdout",
     "output_type": "stream",
     "text": [
      "20\n",
      "10.0\n"
     ]
    }
   ],
   "source": [
    "public class Calculator{\n",
    "\n",
    "    public int add(int a, int b) {\n",
    "        return a + b;\n",
    "    }\n",
    "\n",
    "    public double add(double a, double b) {\n",
    "        return a + b;\n",
    "    }\n",
    "\n",
    "    public static void main(String[] args) {\n",
    "        Calculator c1 = new Calculator();\n",
    "        System.out.println(c1.add(10, 10));\n",
    "        Calculator c2 = new Calculator();\n",
    "        System.out.println(c2.add(9.9, 0.1));\n",
    "    }\n",
    "}\n",
    "Calculator.main(null);"
   ]
  },
  {
   "attachments": {},
   "cell_type": "markdown",
   "metadata": {},
   "source": [
    "# Inheritance\n",
    "- A subclass can inherit the attributes and methods of a superclass using the `extends` keyword\n",
    "- Example: `Dog` class extends the `Animal` class, and inherits the `name` instance variable and the `speak()` method"
   ]
  },
  {
   "cell_type": "code",
   "execution_count": 18,
   "metadata": {},
   "outputs": [
    {
     "name": "stdout",
     "output_type": "stream",
     "text": [
      "I am an animal.\n",
      "I am an animal.\n",
      "Woof!\n"
     ]
    }
   ],
   "source": [
    "public class Animal {\n",
    "    private String name;\n",
    "\n",
    "    public Animal(String name) {\n",
    "        this.name = name;\n",
    "    }\n",
    "\n",
    "    public String getName() {\n",
    "        return name;\n",
    "    }\n",
    "\n",
    "    public void speak() {\n",
    "        System.out.println(\"I am an animal.\");\n",
    "    }\n",
    "}\n",
    "\n",
    "public class Dog extends Animal {\n",
    "    public Dog(String name) {\n",
    "        super(name);\n",
    "    }\n",
    "\n",
    "    public void bark() {\n",
    "        System.out.println(\"Woof!\");\n",
    "    }\n",
    "}\n",
    "\n",
    "public class Main{\n",
    "    public static void main(String[] args) {\n",
    "        Animal a = new Animal(\"Name\");\n",
    "        a.speak();\n",
    "        Dog d = new Dog(\"Rufus\");\n",
    "        d.speak();\n",
    "        d.bark();\n",
    "    }\n",
    "}\n",
    "Main.main(null);"
   ]
  },
  {
   "attachments": {},
   "cell_type": "markdown",
   "metadata": {},
   "source": [
    "# Polymorphism"
   ]
  },
  {
   "cell_type": "code",
   "execution_count": 24,
   "metadata": {},
   "outputs": [],
   "source": [
    "public class Animal {\n",
    "    public void speak() {\n",
    "        System.out.println(\"I am an animal.\");\n",
    "    }\n",
    "}\n",
    "\n",
    "public class Dog extends Animal {\n",
    "    @Override\n",
    "    public void speak() {\n",
    "        System.out.println(\"Woof!\");\n",
    "    }\n",
    "\n",
    "    public void speak(int times) {\n",
    "        for (int i = 0; i < times; i++) {\n",
    "            System.out.println(\"Woof!\");\n",
    "        }\n",
    "    }\n",
    "}    "
   ]
  },
  {
   "attachments": {},
   "cell_type": "markdown",
   "metadata": {},
   "source": [
    "# Hacks\n",
    "## Exercise 1\n",
    "Create a Rectangle class with width and height fields, and getArea() and getPerimeter() methods. Then create a Square class that extends the Rectangle class and has a sideLength field."
   ]
  },
  {
   "cell_type": "code",
   "execution_count": 3,
   "metadata": {},
   "outputs": [
    {
     "name": "stdout",
     "output_type": "stream",
     "text": [
      "Area: 50\n",
      "Perimeter: 30\n"
     ]
    }
   ],
   "source": [
    "public class Rectangle{\n",
    "    // declare attributes\n",
    "    private int width;\n",
    "    private int height;\n",
    "\n",
    "    // no-args constructor\n",
    "    public Rectangle(){\n",
    "        this.width = 0;\n",
    "        this.height = 0;\n",
    "    }\n",
    "\n",
    "    // constructor\n",
    "    public Rectangle(int width, int height){\n",
    "        this.width = width;\n",
    "        this.height = height;\n",
    "    }\n",
    "\n",
    "    // methods\n",
    "    /*\n",
    "     * getArea()\n",
    "     * return area by multiply width and height\n",
    "     */\n",
    "    public int getArea(){\n",
    "        return width * height;\n",
    "    }\n",
    "\n",
    "    /*\n",
    "    * getPerimeter()\n",
    "    * return perimeter by adding side lengths\n",
    "    */\n",
    "    public int getPerimeter(){\n",
    "        return 2 * (width + height);\n",
    "    }\n",
    "\n",
    "    public static void main(String[] args) {\n",
    "        Rectangle r1 = new Rectangle(5, 10);\n",
    "        System.out.println(\"Area: \" + r1.getArea());\n",
    "        System.out.println(\"Perimeter: \" + r1.getPerimeter());\n",
    "    }\n",
    "}\n",
    "Rectangle.main(null);"
   ]
  },
  {
   "cell_type": "code",
   "execution_count": 14,
   "metadata": {},
   "outputs": [
    {
     "ename": "CompilationException",
     "evalue": "",
     "output_type": "error",
     "traceback": [
      "\u001b[1m\u001b[30m|   \u001b[1m\u001b[30m        \u001b[0m\u001b[1m\u001b[30m\u001b[41mthis.width\u001b[0m\u001b[1m\u001b[30m = sideLength;\u001b[0m",
      "\u001b[1m\u001b[31mwidth has private access in Rectangle\u001b[0m",
      "",
      "\u001b[1m\u001b[30m|   \u001b[1m\u001b[30m        \u001b[0m\u001b[1m\u001b[30m\u001b[41mthis.height\u001b[0m\u001b[1m\u001b[30m = sideLength;\u001b[0m",
      "\u001b[1m\u001b[31mheight has private access in Rectangle\u001b[0m",
      ""
     ]
    }
   ],
   "source": [
    "public class Square extends Rectangle{\n",
    "    private int sideLength;\n",
    "\n",
    "    public Square(int sideLength){\n",
    "        this.sideLength = sideLength;\n",
    "        this.width = sideLength;\n",
    "        this.height = sideLength;\n",
    "    }\n",
    "\n",
    "    public static void main(String[] args) {\n",
    "        Square s1 = new Square(10);\n",
    "        s1.getArea();\n",
    "        s1.getPerimeter();\n",
    "    }\n",
    "}"
   ]
  },
  {
   "attachments": {},
   "cell_type": "markdown",
   "metadata": {},
   "source": [
    "## Exercise 2\n",
    "Create a Person class with firstName and lastName fields, and a getFullName() method. Then create a Student class that extends the Person class and has a major field and a getMajor() method."
   ]
  },
  {
   "cell_type": "code",
   "execution_count": 22,
   "metadata": {},
   "outputs": [],
   "source": [
    "// superclass\n",
    "public class Person{\n",
    "    // instance variables\n",
    "    private String firstName;\n",
    "    private String lastName;\n",
    "\n",
    "    public String getFullName(){\n",
    "        return firstName + \" \" + lastName;\n",
    "    }\n",
    "}\n",
    "\n",
    "// subclass inheriting from Person\n",
    "public class Student extends Person{\n",
    "    private String major;\n",
    "\n",
    "    public String getMajor(){\n",
    "        return major;\n",
    "    }\n",
    "}\n",
    "\n",
    "public class Main{\n",
    "    public static void main(String[] args) {\n",
    "        \n",
    "    }\n",
    "}"
   ]
  },
  {
   "attachments": {},
   "cell_type": "markdown",
   "metadata": {},
   "source": [
    "## Exercise 3\n",
    "Create an Animal class with a speak() method that prints \"I am an animal.\" Then create a Cat class and a Dog class that extend the Animal class and"
   ]
  },
  {
   "cell_type": "code",
   "execution_count": 19,
   "metadata": {},
   "outputs": [
    {
     "name": "stdout",
     "output_type": "stream",
     "text": [
      "I am an animal.\n",
      "I am an animal.\n",
      "Woof!\n",
      "I am an animal.\n",
      "Meow!\n"
     ]
    }
   ],
   "source": [
    "public class Animal {\n",
    "    private String name;\n",
    "\n",
    "    public Animal(String name) {\n",
    "        this.name = name;\n",
    "    }\n",
    "\n",
    "    public String getName() {\n",
    "        return name;\n",
    "    }\n",
    "\n",
    "    public void speak() {\n",
    "        System.out.println(\"I am an animal.\");\n",
    "    }\n",
    "}\n",
    "\n",
    "public class Dog extends Animal {\n",
    "    public Dog(String name) {\n",
    "        super(name);\n",
    "    }\n",
    "\n",
    "    public void bark() {\n",
    "        System.out.println(\"Woof!\");\n",
    "    }\n",
    "}\n",
    "\n",
    "public class Cat extends Animal {\n",
    "    public Cat(String name){\n",
    "        super(name);\n",
    "    }\n",
    "\n",
    "    public void meow(){\n",
    "        System.out.println(\"Meow!\");\n",
    "    }\n",
    "}\n",
    "\n",
    "public class Main{\n",
    "    public static void main(String[] args) {\n",
    "        Animal a = new Animal(\"Name\");\n",
    "        a.speak();\n",
    "        Dog d = new Dog(\"Rufus\");\n",
    "        d.speak();\n",
    "        d.bark();\n",
    "        Cat c = new Cat(\"Cat\");\n",
    "        c.speak();\n",
    "        c.meow();\n",
    "    }\n",
    "}\n",
    "Main.main(null);"
   ]
  }
 ],
 "metadata": {
  "kernelspec": {
   "display_name": "Java",
   "language": "java",
   "name": "java"
  },
  "language_info": {
   "codemirror_mode": "java",
   "file_extension": ".jshell",
   "mimetype": "text/x-java-source",
   "name": "java",
   "pygments_lexer": "java",
   "version": "18.0.2+9-61"
  },
  "orig_nbformat": 4
 },
 "nbformat": 4,
 "nbformat_minor": 2
}
