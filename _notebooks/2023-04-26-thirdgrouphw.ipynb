{
 "cells": [
  {
   "cell_type": "markdown",
   "metadata": {},
   "source": [
    "# Second Group Homework\n",
    "\n",
    "- toc: true \n",
    "- badges: true\n",
    "- comments: true\n",
    "- categories: [apr]"
   ]
  },
  {
   "cell_type": "markdown",
   "metadata": {},
   "source": [
    "> Trio code: Adi, Akhil, Tristan"
   ]
  },
  {
   "cell_type": "markdown",
   "metadata": {},
   "source": [
    "Write a seating chart program for your group. Meet the following requirements:\n",
    "\n",
    "A 2D array, array, or ArrayList\n",
    "A minimum of 3 methods to manipulate the seating chart (ex. alphabetize, shuffle seats, add/replace/delete people)\n",
    "Print results"
   ]
  },
  {
   "cell_type": "code",
   "execution_count": 4,
   "metadata": {
    "vscode": {
     "languageId": "java"
    }
   },
   "outputs": [
    {
     "name": "stdout",
     "output_type": "stream",
     "text": [
      "OG LIST\n",
      "[Adi, Akhil, Tristan]\n",
      "[Jay, Pranav, Gabe]\n",
      "[Sanjay, Karthik, Evan]\n",
      "\n",
      "\n",
      "Alphabetically Sorting\n",
      "[Adi, Akhil, Tristan]\n",
      "[Jay, Pranav, Gabe]\n",
      "[Sanjay, Karthik, Evan]\n",
      "\n",
      "\n",
      "Shuffled\n",
      "[Akhil, Jay, Pranav]\n",
      "[Evan, Sanjay, Adi]\n",
      "[Karthik, Gabe, Tristan]\n",
      "\n",
      "\n",
      "Replaced Element\n",
      "[Akhil, Jay, Pranav]\n",
      "[Evan, Sanjay, Adi]\n",
      "[Karthik, test replace, Tristan]\n"
     ]
    }
   ],
   "source": [
    "import java.util.Arrays;\n",
    "import java.util.Collections;\n",
    "import java.util.Comparator;\n",
    "import java.util.List;\n",
    "import java.util.Random;\n",
    "\n",
    "import javax.swing.JOptionPane;\n",
    "\n",
    "public class Hacks {\n",
    "    String[][] names = { { \"Adi\", \"Akhil\", \"Tristan\" }, { \"Jay\", \"Pranav\", \"Gabe\" }, { \"Sanjay\", \"Karthik\", \"Evan\" } };\n",
    "\n",
    "    public static void main(String[] args) {\n",
    "        Hacks hOne = new Hacks();\n",
    "        hOne.run();\n",
    "        hOne.sortAlpha();\n",
    "        hOne.shuffle();\n",
    "        hOne.replace();\n",
    "    }\n",
    "\n",
    "    void run() {\n",
    "        System.out.println(\"OG LIST\");\n",
    "        for (String[] row : names) {\n",
    "            System.out.println(Arrays.toString(row));\n",
    "        }\n",
    "\n",
    "    }\n",
    "\n",
    "    void sortAlpha() {\n",
    "        System.out.println(\"\\n\\nAlphabetically Sorting\");\n",
    "        Arrays.sort(names, Comparator.comparing(a -> a[0]));\n",
    "\n",
    "        // Print the sorted array\n",
    "        for (String[] row : names) {\n",
    "            System.out.println(Arrays.toString(row));\n",
    "        }\n",
    "    }\n",
    "\n",
    "    void shuffle() {\n",
    "        System.out.println(\"\\n\\nShuffled\");\n",
    "        \n",
    "        int numRows = names.length;\n",
    "        int numCols = names[0].length;\n",
    "        \n",
    "        Random rand = new Random();\n",
    "        for(int repeat = 0; repeat<10; repeat++){\n",
    "        for (int i = 0; i < numRows; i++) {\n",
    "            for (int j = 0; j < numCols; j++) {\n",
    "                int randRow = rand.nextInt(numRows);\n",
    "                int randCol = rand.nextInt(numCols);\n",
    "                String temp = names[i][j];\n",
    "                names[i][j] = names[randRow][randCol];\n",
    "                names[randRow][randCol] = temp;\n",
    "            }\n",
    "        }\n",
    "    }\n",
    "        \n",
    "        // Print the shuffled array\n",
    "        for (String[] row : names) {\n",
    "            System.out.println(Arrays.toString(row));\n",
    "        }\n",
    "    }\n",
    "\n",
    "\n",
    "    void replace() {\n",
    "        System.out.println(\"\\n\\nReplaced Element\");\n",
    "        String row = JOptionPane.showInputDialog(\"What row do you want to replace?\");\n",
    "        int rowInt = Integer.parseInt(row);\n",
    "        String col = JOptionPane.showInputDialog(\"What col do you want to replace?\");\n",
    "        int colInt = Integer.parseInt(col);\n",
    "        String newName = JOptionPane.showInputDialog(\"What is the new name?\");\n",
    "        names[rowInt][colInt] = newName;\n",
    "        for (String[] row1 : names) {\n",
    "            System.out.println(Arrays.toString(row1));\n",
    "        }\n",
    "    }\n",
    "\n",
    "}\n",
    "Hacks.main(null);"
   ]
  }
 ],
 "metadata": {
  "kernelspec": {
   "display_name": "Java",
   "language": "java",
   "name": "java"
  },
  "language_info": {
   "codemirror_mode": "java",
   "file_extension": ".jshell",
   "mimetype": "text/x-java-source",
   "name": "Java",
   "pygments_lexer": "java",
   "version": "11.0.16.1+0"
  },
  "orig_nbformat": 4
 },
 "nbformat": 4,
 "nbformat_minor": 2
}
