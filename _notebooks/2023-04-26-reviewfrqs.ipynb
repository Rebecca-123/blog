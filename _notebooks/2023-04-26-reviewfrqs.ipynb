{
 "cells": [
  {
   "cell_type": "markdown",
   "metadata": {},
   "source": [
    "# Extra Credit CB FRQs"
   ]
  },
  {
   "cell_type": "markdown",
   "metadata": {},
   "source": [
    "## Methods and Control Structures"
   ]
  },
  {
   "cell_type": "code",
   "execution_count": 9,
   "metadata": {
    "vscode": {
     "languageId": "java"
    }
   },
   "outputs": [
    {
     "name": "stdout",
     "output_type": "stream",
     "text": [
      "aadya\n",
      "daita\n",
      "false\n",
      "false\n",
      "false\n",
      "false\n",
      "false\n"
     ]
    }
   ],
   "source": [
    "public class LogMessage{\n",
    "    private String machineId;\n",
    "    private String description;\n",
    "// a log message is formatted as message: description\n",
    "    public LogMessage(String message)\n",
    "{\n",
    "    int colonIndex = message.indexOf(\":\"); //finding the index of the colon\n",
    "    machineId = message.substring(0, colonIndex); //substring from the beginning to the colon index\n",
    "    description = message.substring(colonIndex + 1); //from the colon to the end\n",
    "    System.out.println(machineId); \n",
    "    System.out.println(description);\n",
    "    //printing the message and description. \n",
    "\n",
    "}\n",
    "\n",
    "\n",
    "\n",
    "public boolean containsWord(String keyword)\n",
    "{\n",
    "    int keywordIndex = description.indexOf(keyword);\n",
    "\n",
    "    while(keywordIndex != -1) // making sure the substring is in the description\n",
    "    {\n",
    "        int beforeIndex = keywordIndex - 1;\n",
    "        int afterIndex = keywordIndex + keyword.length();\n",
    "\n",
    "        if((beforeIndex == -1 || description.substring(beforeIndex, beforeIndex + 1).equals(\" \")) // if the str is at the beginning OR is immedietly preceeded by a space\n",
    "                && (afterIndex == description.length() ||\n",
    "                description.substring(afterIndex, afterIndex + 1).equals(\" \"))) // AND str is at the end, and is immeditely followed by a space\n",
    "            return true;\n",
    "\n",
    "        keywordIndex = description.indexOf(keyword, keywordIndex + 1); \n",
    "    }\n",
    "\n",
    "    return false; // if all that is not true, return false\n",
    "}\n",
    "    public static void main(String[] args){\n",
    "        LogMessage obj = new LogMessage(\"aadya:daita\");\n",
    "        System.out.println(obj.containsWord(\"yd\"));\n",
    "        System.out.println(obj.containsWord(\"DISK\"));\n",
    "        System.out.println(obj.containsWord(\"error on disk3\"));\n",
    "        System.out.println(obj.containsWord(\"error on /dev/disk\"));\n",
    "        System.out.println(obj.containsWord(\"diskette\"));\n",
    "\n",
    "    }\n",
    "}\n",
    "\n",
    "\n",
    "LogMessage.main(null);\n"
   ]
  },
  {
   "cell_type": "markdown",
   "metadata": {},
   "source": [
    "## Classes and Objects + Inheritence "
   ]
  },
  {
   "cell_type": "code",
   "execution_count": 6,
   "metadata": {
    "vscode": {
     "languageId": "java"
    }
   },
   "outputs": [
    {
     "name": "stdout",
     "output_type": "stream",
     "text": [
      "name\n",
      "aadya\n",
      "my\n",
      "hello\n",
      "is\n",
      "NONE\n",
      "NONE\n",
      "NONE\n",
      "NONE\n",
      "NONE\n"
     ]
    }
   ],
   "source": [
    "public class RandomStringChooser\n",
    "{\n",
    "    private ArrayList<String> valuesRemaining;\n",
    "\n",
    "    public RandomStringChooser(String[] values)\n",
    "    {\n",
    "        valuesRemaining = new ArrayList<String>(); //initialize arraylist\n",
    "\n",
    "        for(String value : values)\n",
    "            valuesRemaining.add(value); //add all the strings from values\n",
    "    }\n",
    "\n",
    "    public static String[] getSingleLetters(String str){\n",
    "        String[] arr = new String[str.length()];\n",
    "        for(int i = 0; i < str.length(); i++){\n",
    "            arr[i] = str.substring(i, i+1);\n",
    "        }\n",
    "        return arr;\n",
    "    }\n",
    "\n",
    "    public String getString(){\n",
    "        int index = (int) (Math.random() * valuesRemaining.size()); //picking a random index\n",
    "        return valuesRemaining.get(index);   //getting the string at that random index\n",
    "    }\n",
    "      public String getNext()\n",
    "    {\n",
    "        if(valuesRemaining.size() == 0)\n",
    "            return \"NONE\"; //if the size is 0, then return none\n",
    "\n",
    "        int index = (int) (Math.random() * valuesRemaining.size());\n",
    "        return valuesRemaining.remove(index); //keep getting the random indeces, and them removes those string from the arraylist\n",
    "    }\n",
    "    public static void main(String[] args){\n",
    "        String[] strings = {\"hello\", \"my\", \"name\", \"is\", \"aadya\"};\n",
    "        RandomStringChooser obj = new RandomStringChooser(strings);\n",
    "        for(int i=0; i < 10; i++){\n",
    "            System.out.println(obj.getNext());\n",
    "        }\n",
    "    }\n",
    "}\n",
    "RandomStringChooser.main(null);"
   ]
  },
  {
   "cell_type": "code",
   "execution_count": 25,
   "metadata": {
    "vscode": {
     "languageId": "java"
    }
   },
   "outputs": [
    {
     "name": "stdout",
     "output_type": "stream",
     "text": [
      "a\n",
      "d\n",
      "a\n",
      "y\n"
     ]
    }
   ],
   "source": [
    "public class RandomLetterChooser extends RandomStringChooser{ //extends keyword\n",
    "    private String result = \"\";\n",
    "    \n",
    "    public RandomLetterChooser(){\n",
    "            result = super.getString(); //getting the random substring from the parent class, and then getting a single letter from it\n",
    "        }\n",
    "        public String getResult(){\n",
    "            return result; //and thnen printing that\n",
    "\n",
    "        } //esssentially making sure super works\n",
    "\n",
    "    \n",
    "        public static void main(String[] args){\n",
    "            RandomLetterChooser obj = new RandomLetterChooser();\n",
    "            obj.getResult();\n",
    "            obj.getResult();//ran four times for random letters\n",
    "            obj.getResult();\n",
    "            obj.getResult();\n",
    "        }        \n",
    "    }\n",
    "    RandomLetterChooser.main(null);\n",
    "    "
   ]
  },
  {
   "cell_type": "code",
   "execution_count": 7,
   "metadata": {
    "vscode": {
     "languageId": "java"
    }
   },
   "outputs": [
    {
     "name": "stdout",
     "output_type": "stream",
     "text": [
      "t\n",
      "c\n",
      "a\n",
      "NONE\n"
     ]
    }
   ],
   "source": [
    "public class RandomLetterChooser extends RandomStringChooser{ //extends keyword\n",
    "    private String str;\n",
    "    \n",
    "    public RandomLetterChooser(String str){\n",
    "        super(getSingleLetters(str));\n",
    "    }\n",
    "    \n",
    "        public static void main(String[] args){\n",
    "            RandomLetterChooser obj = new RandomLetterChooser(\"cat\");\n",
    "            for(int k = 0; k < 4; k++){\n",
    "                System.out.println(obj.getNext());\n",
    "            }\n",
    "            \n",
    "        }        \n",
    "    }\n",
    "    RandomLetterChooser.main(null);"
   ]
  },
  {
   "cell_type": "markdown",
   "metadata": {},
   "source": [
    "## ArrayLists"
   ]
  },
  {
   "cell_type": "code",
   "execution_count": 1,
   "metadata": {
    "vscode": {
     "languageId": "java"
    }
   },
   "outputs": [
    {
     "name": "stdout",
     "output_type": "stream",
     "text": [
      "total letters: 14\n",
      "gap width: 2\n",
      "message: [ap  comp  sci  is  fun]\n"
     ]
    }
   ],
   "source": [
    "public class numberFour{\n",
    "    public static int totalLetters(List<String> wordList)\n",
    "{\n",
    "    int letters = 0; //making all the words in a array list into letters\n",
    "\n",
    "    for(String word : wordList)\n",
    "        letters += word.length();\n",
    "\n",
    "    return letters;\n",
    "}\n",
    "\n",
    "public static int basicGapWidth(List<String> wordList, int formattedLen)\n",
    "{// finding the basic Gap width\n",
    "    int gaps = wordList.size() - 1; //finding the numebr of spaces \n",
    "    int spaces = formattedLen - totalLetters(wordList); //spaces left \n",
    "    return spaces / gaps; // the gap width is spaces left divided by te number of spaces\n",
    "}\n",
    "\n",
    "public static int leftoverSpaces(){\n",
    "    return 4; // static value\n",
    "}\n",
    "\n",
    "public static String format(List<String> wordList, int formattedLen)\n",
    "{\n",
    "    int width = basicGapWidth(wordList, formattedLen);\n",
    "    int leftoverRemaining = leftoverSpaces();\n",
    "\n",
    "    String formatted = \"\";\n",
    "    for(int i = 0; i < wordList.size() - 1; i++)\n",
    "    {\n",
    "        formatted += wordList.get(i); //adding the word into the main message\n",
    "\n",
    "        for(int s = 1; s <= width; s++)\n",
    "            formatted += \" \"; // add however many spaces there are in the gap width. \n",
    "//in this case this is 2\n",
    "        if(leftoverRemaining > 0)\n",
    "        {\n",
    "            formatted += \" \"; //adding spaces at the end of the springs as well\n",
    "            leftoverRemaining--; //decrementing the size of the formatted length\n",
    "        }\n",
    "    }\n",
    "\n",
    "    formatted += wordList.get(wordList.size() - 1);\n",
    "\n",
    "    return formatted; //return string formatted\n",
    "}\n",
    "\n",
    "public static void main(String[] args){\n",
    "    ArrayList<String> string = new ArrayList<String>();\n",
    "    string.add(\"ap\");\n",
    "    string.add(\"comp\");\n",
    "    string.add(\"sci\");\n",
    "    string.add(\"is\");\n",
    "    string.add(\"fun\");\n",
    "    numberFour obj = new numberFour();\n",
    "    System.out.println(\"total letters: \" + obj.totalLetters(string));\n",
    "    System.out.println(\"gap width: \" + obj.basicGapWidth(string, 20));\n",
    "    System.out.println(\"message: [\" + obj.format(string,20) + \"]\");\n",
    "\n",
    "}\n",
    "\n",
    "\n",
    "}\n",
    "numberFour.main(null);"
   ]
  },
  {
   "cell_type": "markdown",
   "metadata": {},
   "source": [
    "## 2D Arrays"
   ]
  },
  {
   "cell_type": "code",
   "execution_count": 3,
   "metadata": {
    "vscode": {
     "languageId": "java"
    }
   },
   "outputs": [
    {
     "name": "stdout",
     "output_type": "stream",
     "text": [
      "is the sum of each row diver? : true\n",
      "6 15 24 "
     ]
    }
   ],
   "source": [
    "public class 2DArr{ //combination of array and 2D array\n",
    "    \n",
    "    public static int arraySum(int[] arr){\n",
    "    int sum = 0;\n",
    "\n",
    "    for(int n : arr)\n",
    "        sum += n;\n",
    "        return sum; //find the sum of all the values in a given array\n",
    "    }\n",
    "\n",
    "    public static int[] rowSums(int[][] arr2D){\n",
    "    int[] sums = new int[arr2D.length]; //create new array\n",
    "\n",
    "    for(int i = 0; i < sums.length; i++){\n",
    "        sums[i] = arraySum(arr2D[i]); //summing all the values in reach row and putting them in a seperate array\n",
    "    }\n",
    "\n",
    "     return sums; //return the sum aaray\n",
    "    }\n",
    "\n",
    "    public static boolean isDiverse(int[][] arr2D){\n",
    "    int[] sums = rowSums(arr2D);\n",
    "\n",
    "    for(int i = 0; i < sums.length; i++)\n",
    "        for(int j = i+1; j < sums.length; j++) //used a nested for loop to check if all the valuesin the sum array are unique\n",
    "            if(sums[i] == sums[j]) // if any of them are , then return false\n",
    "                return false;\n",
    "\n",
    "    return true;// else, return true\n",
    "    }\n",
    "\n",
    "    public static void main(String[] args){\n",
    "        int[][] arr = {{1,2,3},{4,5,6},{7,8,9}};\n",
    "        2DArr obj = new 2DArr();\n",
    "\n",
    "        int [] arr2 = obj.rowSums(arr);\n",
    "\n",
    "        System.out.println(\"is the sum of each row diver? : \" + obj.isDiverse(arr));\n",
    "        for(int i=0; i<arr2.length; i++){\n",
    "            System.out.print(arr2[i] + \" \"); //return the array of all the sums\n",
    "        }\n",
    "        \n",
    "    }\n",
    "\n",
    "}\n",
    "\n",
    "2DArr.main(null);\n",
    "\n"
   ]
  }
 ],
 "metadata": {
  "kernelspec": {
   "display_name": "Java",
   "language": "java",
   "name": "java"
  },
  "language_info": {
   "codemirror_mode": "java",
   "file_extension": ".jshell",
   "mimetype": "text/x-java-source",
   "name": "Java",
   "pygments_lexer": "java",
   "version": "18.0.2+9-61"
  },
  "orig_nbformat": 4
 },
 "nbformat": 4,
 "nbformat_minor": 2
}
