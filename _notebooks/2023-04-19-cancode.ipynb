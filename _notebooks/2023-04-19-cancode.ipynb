{
 "cells": [
  {
   "attachments": {},
   "cell_type": "markdown",
   "metadata": {},
   "source": [
    "# Units 5, 9-10 Review\n",
    "- toc: true \n",
    "- badges: true\n",
    "- comments: true\n",
    "- categories: [apr, cancode]"
   ]
  },
  {
   "attachments": {},
   "cell_type": "markdown",
   "metadata": {},
   "source": [
    "# See TOC for Direct Links to Hacks and Extra Code\n",
    "- They are embedded throughout with the lesson notes"
   ]
  },
  {
   "attachments": {},
   "cell_type": "markdown",
   "metadata": {},
   "source": [
    "# Unit 5: Writing Classes"
   ]
  },
  {
   "attachments": {},
   "cell_type": "markdown",
   "metadata": {},
   "source": [
    "- Class: blueprint for creating objects, which have attributes and methods\n",
    "   - Class declaration: scope, class name\n",
    "      - Scope: public vs private\n",
    "         - public: accessible anywhere\n",
    "         - private: only accessible within the class\n",
    "         - Classes are usually all declared as public, instance variables are usually private\n",
    "         - Methods are generally public\n",
    "         - Constructors are always **public**\n",
    "            - Must be used to create the object\n",
    "   - Class body: contains instance variables (store data) and methods (define behavior of object, may return value)\n",
    "- Methods: can take arguments, can be overloaded\n",
    "- Constructors\n",
    "   - Initialize attributes\n",
    "   - Same name of class\n",
    "   - No return type"
   ]
  },
  {
   "cell_type": "code",
   "execution_count": 4,
   "metadata": {
    "vscode": {
     "languageId": "java"
    }
   },
   "outputs": [],
   "source": [
    "public class ClassName {\n",
    "    // Class body\n",
    "}"
   ]
  },
  {
   "cell_type": "code",
   "execution_count": 5,
   "metadata": {
    "vscode": {
     "languageId": "java"
    }
   },
   "outputs": [],
   "source": [
    "public class Person {\n",
    "    String name;\n",
    "    int age;\n",
    "    double height;\n",
    "    String Race;\n",
    "}"
   ]
  },
  {
   "cell_type": "code",
   "execution_count": 6,
   "metadata": {
    "vscode": {
     "languageId": "java"
    }
   },
   "outputs": [],
   "source": [
    "public class Calculator {\n",
    "    public int add(int a, int b) {\n",
    "        return a + b;\n",
    "    }\n",
    "\n",
    "    public double add(double a, double b) {\n",
    "        return a + b;\n",
    "    }\n",
    "}"
   ]
  },
  {
   "attachments": {},
   "cell_type": "markdown",
   "metadata": {},
   "source": [
    "### Extra Code to Test Method Overloading"
   ]
  },
  {
   "cell_type": "code",
   "execution_count": 13,
   "metadata": {
    "vscode": {
     "languageId": "java"
    }
   },
   "outputs": [
    {
     "name": "stdout",
     "output_type": "stream",
     "text": [
      "20\n",
      "10.0\n"
     ]
    }
   ],
   "source": [
    "public class Calculator{\n",
    "\n",
    "    public int add(int a, int b) {\n",
    "        return a + b;\n",
    "    }\n",
    "\n",
    "    public double add(double a, double b) {\n",
    "        return a + b;\n",
    "    }\n",
    "\n",
    "    public static void main(String[] args) {\n",
    "        Calculator c1 = new Calculator();\n",
    "        System.out.println(c1.add(10, 10));\n",
    "        Calculator c2 = new Calculator();\n",
    "        System.out.println(c2.add(9.9, 0.1));\n",
    "    }\n",
    "}\n",
    "Calculator.main(null);"
   ]
  },
  {
   "attachments": {},
   "cell_type": "markdown",
   "metadata": {},
   "source": [
    "# Inheritance\n",
    "- A subclass can inherit the attributes and methods of a superclass using the `extends` keyword\n",
    "- Example: `Dog` class extends the `Animal` class, and inherits the `name` instance variable and the `speak()` method"
   ]
  },
  {
   "cell_type": "code",
   "execution_count": 18,
   "metadata": {
    "vscode": {
     "languageId": "java"
    }
   },
   "outputs": [
    {
     "name": "stdout",
     "output_type": "stream",
     "text": [
      "I am an animal.\n",
      "I am an animal.\n",
      "Woof!\n"
     ]
    }
   ],
   "source": [
    "public class Animal {\n",
    "    private String name;\n",
    "\n",
    "    public Animal(String name) {\n",
    "        this.name = name;\n",
    "    }\n",
    "\n",
    "    public String getName() {\n",
    "        return name;\n",
    "    }\n",
    "\n",
    "    public void speak() {\n",
    "        System.out.println(\"I am an animal.\");\n",
    "    }\n",
    "}\n",
    "\n",
    "public class Dog extends Animal {\n",
    "    public Dog(String name) {\n",
    "        super(name);\n",
    "    }\n",
    "\n",
    "    public void bark() {\n",
    "        System.out.println(\"Woof!\");\n",
    "    }\n",
    "}\n",
    "\n",
    "public class Main{\n",
    "    public static void main(String[] args) {\n",
    "        Animal a = new Animal(\"Name\");\n",
    "        a.speak();\n",
    "        Dog d = new Dog(\"Rufus\");\n",
    "        d.speak();\n",
    "        d.bark();\n",
    "    }\n",
    "}\n",
    "Main.main(null);"
   ]
  },
  {
   "attachments": {},
   "cell_type": "markdown",
   "metadata": {},
   "source": [
    "# Polymorphism"
   ]
  },
  {
   "cell_type": "code",
   "execution_count": 24,
   "metadata": {
    "vscode": {
     "languageId": "java"
    }
   },
   "outputs": [],
   "source": [
    "public class Animal {\n",
    "    public void speak() {\n",
    "        System.out.println(\"I am an animal.\");\n",
    "    }\n",
    "}\n",
    "\n",
    "public class Dog extends Animal {\n",
    "    @Override\n",
    "    public void speak() {\n",
    "        System.out.println(\"Woof!\");\n",
    "    }\n",
    "\n",
    "    public void speak(int times) {\n",
    "        for (int i = 0; i < times; i++) {\n",
    "            System.out.println(\"Woof!\");\n",
    "        }\n",
    "    }\n",
    "}    "
   ]
  },
  {
   "attachments": {},
   "cell_type": "markdown",
   "metadata": {},
   "source": [
    "# Hacks\n",
    "## Exercise 1\n",
    "Create a Rectangle class with width and height fields, and getArea() and getPerimeter() methods. Then create a Square class that extends the Rectangle class and has a sideLength field."
   ]
  },
  {
   "cell_type": "code",
   "execution_count": 3,
   "metadata": {
    "vscode": {
     "languageId": "java"
    }
   },
   "outputs": [
    {
     "name": "stdout",
     "output_type": "stream",
     "text": [
      "Area: 50\n",
      "Perimeter: 30\n"
     ]
    }
   ],
   "source": [
    "public class Rectangle{\n",
    "    // declare attributes\n",
    "    private int width;\n",
    "    private int height;\n",
    "\n",
    "    // no-args constructor\n",
    "    public Rectangle(){\n",
    "        this.width = 0;\n",
    "        this.height = 0;\n",
    "    }\n",
    "\n",
    "    // constructor\n",
    "    public Rectangle(int width, int height){\n",
    "        this.width = width;\n",
    "        this.height = height;\n",
    "    }\n",
    "\n",
    "    // methods\n",
    "    /*\n",
    "     * getArea()\n",
    "     * return area by multiply width and height\n",
    "     */\n",
    "    public int getArea(){\n",
    "        return width * height;\n",
    "    }\n",
    "\n",
    "    /*\n",
    "    * getPerimeter()\n",
    "    * return perimeter by adding side lengths\n",
    "    */\n",
    "    public int getPerimeter(){\n",
    "        return 2 * (width + height);\n",
    "    }\n",
    "\n",
    "    public static void main(String[] args) {\n",
    "        Rectangle r1 = new Rectangle(5, 10);\n",
    "        System.out.println(\"Area: \" + r1.getArea());\n",
    "        System.out.println(\"Perimeter: \" + r1.getPerimeter());\n",
    "    }\n",
    "}\n",
    "Rectangle.main(null);"
   ]
  },
  {
   "attachments": {},
   "cell_type": "markdown",
   "metadata": {},
   "source": [
    "## Exercise 3\n",
    "Create an Animal class with a speak() method that prints \"I am an animal.\" Then create a Cat class and a Dog class that extend the Animal class and"
   ]
  },
  {
   "cell_type": "code",
   "execution_count": 19,
   "metadata": {
    "vscode": {
     "languageId": "java"
    }
   },
   "outputs": [
    {
     "name": "stdout",
     "output_type": "stream",
     "text": [
      "I am an animal.\n",
      "I am an animal.\n",
      "Woof!\n",
      "I am an animal.\n",
      "Meow!\n"
     ]
    }
   ],
   "source": [
    "public class Animal {\n",
    "    private String name;\n",
    "\n",
    "    public Animal(String name) {\n",
    "        this.name = name;\n",
    "    }\n",
    "\n",
    "    public String getName() {\n",
    "        return name;\n",
    "    }\n",
    "\n",
    "    public void speak() {\n",
    "        System.out.println(\"I am an animal.\");\n",
    "    }\n",
    "}\n",
    "\n",
    "public class Dog extends Animal {\n",
    "    public Dog(String name) {\n",
    "        super(name);\n",
    "    }\n",
    "\n",
    "    public void bark() {\n",
    "        System.out.println(\"Woof!\");\n",
    "    }\n",
    "}\n",
    "\n",
    "public class Cat extends Animal {\n",
    "    public Cat(String name){\n",
    "        super(name);\n",
    "    }\n",
    "\n",
    "    public void meow(){\n",
    "        System.out.println(\"Meow!\");\n",
    "    }\n",
    "}\n",
    "\n",
    "public class Main{\n",
    "    public static void main(String[] args) {\n",
    "        Animal a = new Animal(\"Name\");\n",
    "        a.speak();\n",
    "        Dog d = new Dog(\"Rufus\");\n",
    "        d.speak();\n",
    "        d.bark();\n",
    "        Cat c = new Cat(\"Cat\");\n",
    "        c.speak();\n",
    "        c.meow();\n",
    "    }\n",
    "}\n",
    "Main.main(null);"
   ]
  },
  {
   "attachments": {},
   "cell_type": "markdown",
   "metadata": {},
   "source": [
    "# Homework"
   ]
  },
  {
   "attachments": {},
   "cell_type": "markdown",
   "metadata": {},
   "source": [
    "## Unit 5"
   ]
  },
  {
   "attachments": {},
   "cell_type": "markdown",
   "metadata": {},
   "source": [
    "### Hack (Putting it all together):\n",
    "Demonstrate the usage of classes and core concepts of unit 5\n",
    "\n",
    "Create a class and tester method which incorporates all core ideas taught in this post\n",
    "1. Class which has a constructor which sets at least 1 public and 1 private attribute (incorporate “this” keyword)\n",
    "2. Class which has public and private attributes and methods\n",
    "3. Class which has at least 1 static attribute\n",
    "4. Class which has getters and setters for at least 1 private attribute\n",
    "5. Make sure to create a tester method that verifies that your class is working and shows the getters and setters working"
   ]
  },
  {
   "cell_type": "code",
   "execution_count": 50,
   "metadata": {
    "vscode": {
     "languageId": "java"
    }
   },
   "outputs": [
    {
     "name": "stdout",
     "output_type": "stream",
     "text": [
      "3\n",
      "Hello, my name is Bob\n",
      "Name: Bob, Age: 20\n",
      "Private method\n"
     ]
    }
   ],
   "source": [
    "public class Person {\n",
    "    // attributes\n",
    "    static int count = 0; // number of people created\n",
    "    public String name;\n",
    "    private int age;\n",
    "    \n",
    "    // constructor\n",
    "    public Person(String name, int age) {\n",
    "        this.name = name;\n",
    "        this.age = age;\n",
    "        count++;\n",
    "    }\n",
    "    \n",
    "    // getters and setters\n",
    "    public int getAge() {\n",
    "        return age;\n",
    "    }\n",
    "    \n",
    "    public void setAge(int age) {\n",
    "        this.age = age;\n",
    "    }\n",
    "    \n",
    "    // methods\n",
    "    public void numPeople(){\n",
    "        System.out.println(count);\n",
    "    }\n",
    "\n",
    "    private void useless(){\n",
    "        System.out.println(\"Private method\");\n",
    "    }\n",
    "\n",
    "    public String toString(){\n",
    "        return \"Name: \" + name + \", Age: \" + age;\n",
    "    }\n",
    "\n",
    "    public void sayHello() {\n",
    "        System.out.println(\"Hello, my name is \" + name);\n",
    "    }\n",
    "\n",
    "    public static void main(String[] args) {\n",
    "        Person p1 = new Person(\"Bob\", 20);\n",
    "        p1.numPeople();\n",
    "        p1.sayHello();\n",
    "        System.out.println(p1);\n",
    "        p1.useless();\n",
    "    }\n",
    "}\n",
    "Person.main(null);\n"
   ]
  },
  {
   "cell_type": "code",
   "execution_count": 51,
   "metadata": {
    "vscode": {
     "languageId": "java"
    }
   },
   "outputs": [
    {
     "name": "stdout",
     "output_type": "stream",
     "text": [
      "4\n",
      "Hello, my name is Joe\n",
      "Name: Joe, Age: 30\n",
      "Getter and Setter Test: \n",
      "30\n",
      "Name: Joe, Age: 10000\n"
     ]
    }
   ],
   "source": [
    "public class Main{\n",
    "    public static void main(String[] args) {\n",
    "        Person p2 = new Person(\"Joe\", 30);\n",
    "        p2.numPeople();\n",
    "        p2.sayHello();\n",
    "        System.out.println(p2);\n",
    "        // p2.useless();\n",
    "        System.out.println(\"Getter and Setter Test: \");\n",
    "        System.out.println(p2.getAge());\n",
    "        p2.setAge(10000);\n",
    "        System.out.println(p2);\n",
    "    }\n",
    "}\n",
    "Main.main(null);"
   ]
  },
  {
   "attachments": {},
   "cell_type": "markdown",
   "metadata": {},
   "source": [
    "## Unit 9"
   ]
  },
  {
   "attachments": {},
   "cell_type": "markdown",
   "metadata": {},
   "source": [
    "Hack 1:\n",
    "Use the code above as a template (Steps Below):\n",
    "\n",
    "1. Create a “name” attribute in the Vehicle class.\n",
    "2. Create “honk” method that prints a console message in the Vehicle class.\n",
    "3. Create a Car class that extends the Vehicle class\n",
    "4. Create an object in the Car class\n",
    "5. Call the inherited “honk” method through the Car object\n",
    "6. Print the inherited “name” attribute through the Car object"
   ]
  },
  {
   "cell_type": "code",
   "execution_count": 52,
   "metadata": {
    "vscode": {
     "languageId": "java"
    }
   },
   "outputs": [
    {
     "name": "stdout",
     "output_type": "stream",
     "text": [
      "Beep beep!\n",
      "Name: Camry\n"
     ]
    }
   ],
   "source": [
    "public class Vehicle {\n",
    "    private String name;\n",
    "    public Vehicle(String name){\n",
    "        this.name = name;\n",
    "    }\n",
    "    public String getName(){\n",
    "        return name;\n",
    "    }\n",
    "    public void honk() {        \n",
    "      System.out.println(\"Beep beep!\");\n",
    "    }\n",
    "  }\n",
    "  \n",
    "public class Car extends Vehicle {\n",
    "    public Car(String name){\n",
    "        super(name);\n",
    "    }\n",
    "    public static void main(String[] args) {\n",
    "      // Car object\n",
    "      Car myCar = new Car(\"Camry\");\n",
    "      // Calling inherited method\n",
    "      myCar.honk();\n",
    "      System.out.println(\"Name: \" + myCar.getName());\n",
    "    }\n",
    "}\n",
    "\n",
    "Car.main(null);"
   ]
  },
  {
   "attachments": {},
   "cell_type": "markdown",
   "metadata": {},
   "source": [
    "Hack 2 (Putting it all together):\n",
    "Demonstrate the usage of inheritance, polymorphism and overriding methods\n",
    "\n",
    "1. Create a parent class of your choice\n",
    "2. Create 2 subclasses from that parent superclass\n",
    "3. Incorporate some data and atleast one method into each class, using super keyword\n",
    "4. Override superclass method in the subclasses\n",
    "5. Use a tester method to create objects from the superclass that take on the forms of the subclasses, and print some outputs"
   ]
  },
  {
   "cell_type": "code",
   "execution_count": 53,
   "metadata": {
    "vscode": {
     "languageId": "java"
    }
   },
   "outputs": [
    {
     "name": "stdout",
     "output_type": "stream",
     "text": [
      "Libary Book Count: 4\n",
      "Saved Books:\n",
      "[Title: Barron's Computer Science \"A\", ID: -70719976, Time of Entry: 227791964114400, Title: Angels and Demons, ID: 1275455903, Time of Entry: 227791964117200, Title: Lion, Witch, and a Wardrobe, ID: 507506191, Time of Entry: 227791964119800, Title: e=MC^2 a Biography, ID: 225550294, Time of Entry: 227791964135200, Publishing Company: Pan Books (January 1, 2001), Title: Barron's Computer Science \"A\", ID: -70719976, Time of Entry: 227896968036000, Title: Angels and Demons, ID: 1275455903, Time of Entry: 227896968036500, Title: Lion, Witch, and a Wardrobe, ID: 507506191, Time of Entry: 227896968036700, Title: The Practice of Programming, ID: 1890900614, Time of Entry: 227896968037700, Author: Addison-Wesley Professional Computing, Title: e=MC^2 a Biography, ID: 225550294, Time of Entry: 227896968038600, Publishing Company: Pan Books (January 1, 2001)]\n",
      "Libary Book Count: 9\n",
      "Title: Barron's Computer Science \"A\", ID: -70719976, Time of Entry: 227791964114400\n",
      "105005786800\n",
      "11670212788\n",
      "Title: Angels and Demons, ID: 1275455903, Time of Entry: 227791964117200\n",
      "105006058300\n",
      "23337543577\n",
      "Title: Lion, Witch, and a Wardrobe, ID: 507506191, Time of Entry: 227791964119800\n",
      "105006296400\n",
      "35004901677\n",
      "Title: e=MC^2 a Biography, ID: 225550294, Time of Entry: 227791964135200, Publishing Company: Pan Books (January 1, 2001)\n",
      "105006514100\n",
      "46672281400\n",
      "Title: Angels and Demons, ID: 1275455903, Time of Entry: 227896968036500\n",
      "2828300\n",
      "52506661637\n",
      "Title: Lion, Witch, and a Wardrobe, ID: 507506191, Time of Entry: 227896968036700\n",
      "3015500\n",
      "52507029000\n",
      "Title: The Practice of Programming, ID: 1890900614, Time of Entry: 227896968037700, Author: Addison-Wesley Professional Computing\n",
      "3244200\n",
      "52507421225\n",
      "Title: e=MC^2 a Biography, ID: 225550294, Time of Entry: 227896968038600, Publishing Company: Pan Books (January 1, 2001)\n",
      "3559900\n",
      "52507850887\n",
      "Saved Books:\n",
      "[Title: Barron's Computer Science \"A\", ID: -70719976, Time of Entry: 227791964114400, Title: Angels and Demons, ID: 1275455903, Time of Entry: 227791964117200, Title: Lion, Witch, and a Wardrobe, ID: 507506191, Time of Entry: 227791964119800, Title: Barron's Computer Science \"A\", ID: -70719976, Time of Entry: 227896968036000, Title: Angels and Demons, ID: 1275455903, Time of Entry: 227896968036500, Title: Lion, Witch, and a Wardrobe, ID: 507506191, Time of Entry: 227896968036700, Title: The Practice of Programming, ID: 1890900614, Time of Entry: 227896968037700, Author: Addison-Wesley Professional Computing]\n",
      "Libary Book Count: 7\n"
     ]
    }
   ],
   "source": [
    "public class Book{\n",
    "    private static ArrayList<Book> library = new ArrayList<Book>();  // library is requirement in part 3 and ArrayList is dynamic and has size()\n",
    "    private String title;\n",
    "    private int id;\n",
    "    private long start;\n",
    "    static long total = 0;\n",
    "\n",
    "    // 1-arg constructor\n",
    "    public Book(String title){\n",
    "        this.title = title;\n",
    "        Book.library.add(this);\n",
    "        this.id = title.hashCode();\n",
    "        this.start = System.nanoTime();\n",
    "    }\n",
    "    \n",
    "    static int getBookCount(){\n",
    "        return Book.library.size();\n",
    "    }\n",
    "\n",
    "    public boolean stay(long n){\n",
    "        return true;\n",
    "    }\n",
    "\n",
    "    public String toString(){\n",
    "        return \"Title: \" + title + \", ID: \" + id + \", Time of Entry: \" + start;\n",
    "    }\n",
    "\n",
    "    public long calcShelfLife(){\n",
    "        return System.nanoTime() - start;\n",
    "    }\n",
    "\n",
    "    static long calcAvg(Book b){\n",
    "        Book.total += b.calcShelfLife();\n",
    "        System.out.println(b.toString());\n",
    "        System.out.println(b.calcShelfLife());\n",
    "        System.out.println(Book.total / getBookCount());\n",
    "        return Book.total / getBookCount();\n",
    "    }\n",
    "\n",
    "    public static void main(String[] args) {\n",
    "        System.out.println(\"Libary Book Count: \" + Book.getBookCount());  // Notice how this method exist and works before any books are created\n",
    "        // Use Array iniitialization to add book\n",
    "        new Book(\"Barron's Computer Science \\\"A\\\"\");  // Set a new Book object as array element.\n",
    "        new Book(\"Angels and Demons\");\n",
    "        new Book(\"Lion, Witch, and a Wardrobe\");\n",
    "        Novel n = new Novel(\"The Practice of Programming\");\n",
    "        n.setAuthor(\"Addison-Wesley Professional Computing\");\n",
    "        Textbook txtbk = new Textbook(\"e=MC^2 a Biography\");\n",
    "        txtbk.setPc(\"Pan Books (January 1, 2001)\");\n",
    "\n",
    "        System.out.println(\"Saved Books:\");\n",
    "        System.out.println(Book.library);\n",
    "\n",
    "        System.out.println(\"Libary Book Count: \" + Book.getBookCount());\n",
    "\n",
    "        for(int i = 0; i < Book.library.size(); i++){\n",
    "            if(!Book.library.get(i).stay(Book.calcAvg(Book.library.get(i)))){\n",
    "                Book.library.remove(i);\n",
    "            }\n",
    "        }\n",
    "\n",
    "        System.out.println(\"Saved Books:\");\n",
    "        System.out.println(Book.library);\n",
    "        System.out.println(\"Libary Book Count: \" + Book.getBookCount());\n",
    "\n",
    "    }\n",
    "}\n",
    "\n",
    "Book.main(null);"
   ]
  },
  {
   "cell_type": "code",
   "execution_count": 54,
   "metadata": {
    "vscode": {
     "languageId": "java"
    }
   },
   "outputs": [],
   "source": [
    "public class Novel extends Book{\n",
    "    private String author;\n",
    "\n",
    "    public Novel(String title){\n",
    "        super(title);\n",
    "    }\n",
    "\n",
    "    public String toString(){\n",
    "        return super.toString() + \", Author: \" + author;\n",
    "    }\n",
    "\n",
    "    @Override\n",
    "    public boolean stay(long n){\n",
    "        if(this.calcShelfLife() > n){\n",
    "            return false;\n",
    "        }\n",
    "        return true;\n",
    "    }\n",
    "\n",
    "    public String getAuthor(){\n",
    "        return author;\n",
    "    }\n",
    "\n",
    "    public void setAuthor(String author){\n",
    "        this.author = author;\n",
    "    }\n",
    "}"
   ]
  },
  {
   "cell_type": "code",
   "execution_count": 55,
   "metadata": {
    "vscode": {
     "languageId": "java"
    }
   },
   "outputs": [],
   "source": [
    "public class Textbook extends Book{\n",
    "    private String pc;\n",
    "\n",
    "    public Textbook(String title){\n",
    "        super(title);\n",
    "    }\n",
    "\n",
    "    public String toString(){\n",
    "        return super.toString() + \", Publishing Company: \" + this.pc;\n",
    "    }\n",
    "\n",
    "    @Override\n",
    "    public boolean stay(long n){\n",
    "        if(this.calcShelfLife() > 600){\n",
    "            return false;\n",
    "        }\n",
    "        return true;\n",
    "    }\n",
    "\n",
    "    public String getPc(){\n",
    "        return pc;\n",
    "    }\n",
    "\n",
    "    public void setPc(String pc){\n",
    "        this.pc = pc;\n",
    "    }\n",
    "\n",
    "}"
   ]
  },
  {
   "attachments": {},
   "cell_type": "markdown",
   "metadata": {},
   "source": [
    "## Unit 10"
   ]
  },
  {
   "attachments": {},
   "cell_type": "markdown",
   "metadata": {},
   "source": [
    "Hacks\n",
    "Create your own recursive algorithm of any type. Options include\n",
    "\n",
    "1. Fibonacci, or factorial, although this is pretty basic\n",
    "2. A more advanced version of this would be to create your own searching or sorting algorithm that utilizes recursive"
   ]
  },
  {
   "attachments": {},
   "cell_type": "markdown",
   "metadata": {},
   "source": [
    "### Factorial"
   ]
  },
  {
   "cell_type": "code",
   "execution_count": 37,
   "metadata": {
    "vscode": {
     "languageId": "java"
    }
   },
   "outputs": [
    {
     "name": "stdout",
     "output_type": "stream",
     "text": [
      "120\n"
     ]
    }
   ],
   "source": [
    "public class Factorial{\n",
    "    private int fact;\n",
    "    public Factorial(int fact){\n",
    "        this.fact = fact;\n",
    "    }\n",
    "\n",
    "    public long calculate(){\n",
    "        if(this.fact == 1 || this.fact == 0){\n",
    "            return 1;\n",
    "        }\n",
    "        return this.fact * new Factorial(this.fact - 1).calculate(); // recursion\n",
    "    }\n",
    "\n",
    "    public static void main(String[] args) {\n",
    "        Factorial f1 = new Factorial(5);\n",
    "        System.out.println(f1.calculate());\n",
    "    }\n",
    "}\n",
    "\n",
    "Factorial.main(null);"
   ]
  },
  {
   "attachments": {},
   "cell_type": "markdown",
   "metadata": {},
   "source": [
    "### Fibonacci"
   ]
  },
  {
   "cell_type": "code",
   "execution_count": 57,
   "metadata": {
    "vscode": {
     "languageId": "java"
    }
   },
   "outputs": [
    {
     "name": "stdout",
     "output_type": "stream",
     "text": [
      "Fibonacci Method: For Loop\n",
      "\tEnter how many numbers you want in the sequence: \n",
      "\t9 Numbers in the Sequence\n",
      "\t\t[0, 1, 1, 2, 3, 5, 8, 13, 21]\n"
     ]
    }
   ],
   "source": [
    "import java.util.ArrayList;  \n",
    "import java.util.Scanner;\n",
    "\n",
    "public class Fibo {\n",
    "    ArrayList<Long> seq = new ArrayList<>();\n",
    "\n",
    "    // calculate fibonacci number\n",
    "    public static long fibCalc(int i) {\n",
    "        if(i == 0 || i == 1){\n",
    "            return i;\n",
    "        }\n",
    "        else{\n",
    "            // fibonacci is sum of previous two values\n",
    "            return fibCalc(i-1) + fibCalc(i-2);\n",
    "        }\n",
    "    }\n",
    "\n",
    "    public ArrayList makeSeq(int n){\n",
    "        for(int o = 0; o < n; o++){ \n",
    "            this.seq.add(fibCalc(o));  // add fibonacci number to the list\n",
    "        }\n",
    "        return seq;\n",
    "    }\n",
    "\n",
    "    public static void main(String[] args){\n",
    "        System.out.println(\"Fibonacci Method: For Loop\");\n",
    "       \n",
    "        // determine length of each sequence\n",
    "        Scanner input = new Scanner(System.in);\n",
    "        System.out.println(\"\\tEnter how many numbers you want in the sequence: \");\n",
    "        int InputInt = input.nextInt();\n",
    "        Fibo mySequence = new Fibo(); // create object\n",
    "\n",
    "        System.out.println(\"\\t\" + InputInt + \" Numbers in the Sequence\");\n",
    "        // actually output the sequence with method\n",
    "        System.out.println(\"\\t\\t\" + mySequence.makeSeq(InputInt));\n",
    "        input.close();\n",
    "    }\n",
    "\n",
    "}\n",
    "Fibo.main(null);"
   ]
  },
  {
   "attachments": {},
   "cell_type": "markdown",
   "metadata": {},
   "source": [
    "### Merge Sort"
   ]
  },
  {
   "cell_type": "code",
   "execution_count": 23,
   "metadata": {
    "vscode": {
     "languageId": "java"
    }
   },
   "outputs": [
    {
     "name": "stdout",
     "output_type": "stream",
     "text": [
      "1 2 2 3 4 5 6 7 \n",
      "0 3 9 \n",
      "1 6 8 29 \n"
     ]
    }
   ],
   "source": [
    "public class MergeSort {\n",
    "    private int[] arr; // instance variable for the array\n",
    "    private int[] tempArr; // instance variable for the temporary array used in merging\n",
    "    private int length; // instance variable for the length of the array\n",
    "    \n",
    "    public MergeSort(int[] arr) {\n",
    "        this.arr = arr;\n",
    "        this.length = arr.length;\n",
    "        this.tempArr = new int[length];\n",
    "    }\n",
    "\n",
    "    public void mergeSort() {\n",
    "        mergeSortHelper(0, length - 1);\n",
    "    }\n",
    "\n",
    "    private void mergeSortHelper(int l, int r) {\n",
    "        if (l < r) {\n",
    "            int m = (l + r) / 2;\n",
    "            mergeSortHelper(l, m); // left half\n",
    "            mergeSortHelper(m + 1, r); // right half\n",
    "            merge(l, m, r);\n",
    "        }\n",
    "    }\n",
    "\n",
    "    private void merge(int l, int m, int r) {\n",
    "        // Copy the elements from the input array to the temporary array\n",
    "        for (int i = l; i <= r; i++) {\n",
    "            tempArr[i] = arr[i];\n",
    "        }\n",
    "        \n",
    "        int i = l; // Index for the left half of the temporary array\n",
    "        int j = m + 1; // Index for the right half of the temporary array\n",
    "        int k = l; // Index for the final sorted array\n",
    "        \n",
    "        while (i <= m && j <= r) {\n",
    "            if (tempArr[i] < tempArr[j]) {\n",
    "                arr[k++] = tempArr[i++]; // Copy the smaller element to the final array\n",
    "            } else {\n",
    "                arr[k++] = tempArr[j++];\n",
    "            }\n",
    "        }\n",
    "        \n",
    "        // Copy the remaining elements from the left half of the temporary array to the final array\n",
    "        while (i <= m) {\n",
    "            arr[k++] = tempArr[i++];\n",
    "        }\n",
    "        \n",
    "        // Copy the remaining elements from the right half of the temporary array to the final array\n",
    "        while (j <= r) {\n",
    "            arr[k++] = tempArr[j++];\n",
    "        }\n",
    "    }\n",
    "\n",
    "    public static void main(String[] args) {\n",
    "        int[][] arrs = {{5, 2, 4, 7, 1, 3, 2, 6}, {9, 0, 3}, {1, 8, 6, 29}};\n",
    "        for(int[] arr: arrs){\n",
    "            MergeSort ms = new MergeSort(arr);\n",
    "            ms.mergeSort();\n",
    "             // Print the sorted array\n",
    "            for (int i = 0; i < arr.length; i++) {\n",
    "                System.out.print(arr[i] + \" \");\n",
    "            }\n",
    "            System.out.println();\n",
    "        }\n",
    "    }\n",
    "}\n",
    "MergeSort.main(null);"
   ]
  },
  {
   "attachments": {},
   "cell_type": "markdown",
   "metadata": {},
   "source": [
    "### QuickSort\n",
    "- Recursive sorting algorithm\n"
   ]
  },
  {
   "attachments": {},
   "cell_type": "markdown",
   "metadata": {},
   "source": [
    "![](images/quick-sort.png)"
   ]
  },
  {
   "cell_type": "code",
   "execution_count": 41,
   "metadata": {
    "vscode": {
     "languageId": "java"
    }
   },
   "outputs": [
    {
     "name": "stdout",
     "output_type": "stream",
     "text": [
      "1\n",
      "2\n",
      "3\n",
      "4\n",
      "5\n"
     ]
    }
   ],
   "source": [
    "public class Main{\n",
    "    public static void quickSort(int[] arr, int low, int high) {\n",
    "        if (low < high) { // check if there are still elements that need to be sorted\n",
    "            int pivot = partition(arr, low, high);\n",
    "            quickSort(arr, low, pivot - 1); // left-side\n",
    "            quickSort(arr, pivot + 1, high); // right-side\n",
    "        }\n",
    "    }\n",
    "    \n",
    "    private static int partition(int[] arr, int low, int high) {\n",
    "        int pivot = arr[high]; // starting pivot is last element\n",
    "        int i = low - 1;\n",
    "    \n",
    "        // iterate through array to put pivot in right position\n",
    "        for (int j = low; j < high; j++) {\n",
    "            if (arr[j] <= pivot) {\n",
    "                i++;\n",
    "    \n",
    "                int temp = arr[i];\n",
    "                arr[i] = arr[j];\n",
    "                arr[j] = temp;\n",
    "            }\n",
    "        }\n",
    "    \n",
    "        int temp = arr[i + 1];\n",
    "        arr[i + 1] = arr[high];\n",
    "        arr[high] = temp;\n",
    "    \n",
    "        return i + 1;\n",
    "    }\n",
    "    public static void main(String[] args) {\n",
    "        int[] arr = new int[]{5, 4, 3, 2, 1};\n",
    "        quickSort(arr, 0, arr.length-1);\n",
    "        for(int i : arr){\n",
    "            System.out.println(i);\n",
    "        }\n",
    "    }\n",
    "}\n",
    "Main.main(null);"
   ]
  }
 ],
 "metadata": {
  "kernelspec": {
   "display_name": "Java",
   "language": "java",
   "name": "java"
  },
  "language_info": {
   "codemirror_mode": "java",
   "file_extension": ".jshell",
   "mimetype": "text/x-java-source",
   "name": "Java",
   "pygments_lexer": "java",
   "version": "18.0.2+9-61"
  },
  "orig_nbformat": 4
 },
 "nbformat": 4,
 "nbformat_minor": 2
}
