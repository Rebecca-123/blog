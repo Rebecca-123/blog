{
 "cells": [
  {
   "cell_type": "markdown",
   "metadata": {},
   "source": [
    "# First Group Homework\n",
    "\n",
    "- toc: true \n",
    "- badges: true\n",
    "- comments: true\n",
    "- categories: [apr]"
   ]
  },
  {
   "cell_type": "markdown",
   "metadata": {},
   "source": [
    "> Trio code: Adi, Akhil, Tristan"
   ]
  },
  {
   "cell_type": "markdown",
   "metadata": {},
   "source": [
    "# Hack 1\n",
    "Make a code segment that calculates the number of wheels of x number of cars"
   ]
  },
  {
   "cell_type": "code",
   "execution_count": 5,
   "metadata": {},
   "outputs": [
    {
     "name": "stdout",
     "output_type": "stream",
     "text": [
      "Number of wheels on 2 cars is 8\n"
     ]
    }
   ],
   "source": [
    "import javax.swing.JOptionPane;\n",
    "\n",
    "public class Hack1 {\n",
    "    public static void main(String[] args) {\n",
    "        Hack1 hOne = new Hack1();\n",
    "        hOne.run();\n",
    "    }\n",
    "\n",
    "    void run(){\n",
    "       // String cars = JOptionPane.showInputDialog(\"How many cars\");\n",
    "       String cars = \"2\";\n",
    "        int carsInt = Integer.parseInt(cars);\n",
    "        System.out.println(\"Number of wheels on \"+cars+\" cars is \"+  carsInt*4);\n",
    "       \n",
    "    }\n",
    "}\n",
    "Hack1.main(null);"
   ]
  },
  {
   "cell_type": "markdown",
   "metadata": {},
   "source": [
    "# Hack 2\n",
    "Create a method named “printCarDetails()” that prints out all of the attributes of the car.\n",
    "\n",
    "In the main method, create an array of three cars with the following details:\n",
    "\n",
    "Car 1: Make = “Toyota”, Model = “Corolla”, Year = 2022, Price = 24999.99, isUsed = false Car 2: Make = “Honda”, Model = “Accord”, Year = 2018, Price = 18999.99, isUsed = true Car 3: Make = “Ford”, Model = “Mustang”, Year = 2020, Price = 34999.99, isUsed = true Loop through the array and print out the details of each car using the “printCarDetails()” method."
   ]
  },
  {
   "cell_type": "code",
   "execution_count": 13,
   "metadata": {},
   "outputs": [
    {
     "name": "stdout",
     "output_type": "stream",
     "text": [
      "Printing Cars: \n",
      "Car 1: \n",
      "Make: Toyota\n",
      "Model: Corolla\n",
      "Year: 2022\n",
      "Price: 24999.99\n",
      "isUsed: false\n",
      "Car 2: \n",
      "Make: Honda\n",
      "Model: Accord\n",
      "Year: 2018\n",
      "Price: 18999.99\n",
      "isUsed: true\n",
      "Car 3: \n",
      "Make: Ford\n",
      "Model: Mustang\n",
      "Year: 2020\n",
      "Price: 34999.99\n",
      "isUsed: true\n"
     ]
    }
   ],
   "source": [
    "public class Car {\n",
    "    private String make;\n",
    "    private String model;\n",
    "    private int year;\n",
    "    private double price;\n",
    "    private boolean isUsed;\n",
    "    \n",
    "   static Car[] carsArray = new Car[3];\n",
    "    // Constructor\n",
    "    public Car(String make, String model, int year, double price, boolean isUsed) {\n",
    "        this.make = make;\n",
    "        this.model = model;\n",
    "        this.year = year;\n",
    "        this.price = price;\n",
    "        this.isUsed = isUsed;\n",
    "    }\n",
    "    public void printCarDetails() {\n",
    "        System.out.println(\"Printing Cars: \");\n",
    "        for(int i = 0; i < carsArray.length; i++){\n",
    "            System.out.println(\"Car \" + (i+1) + \": \");\n",
    "            System.out.println(\"Make: \" + carsArray[i].make);\n",
    "            System.out.println(\"Model: \" + carsArray[i].model);\n",
    "            System.out.println(\"Year: \" + carsArray[i].year);\n",
    "            System.out.println(\"Price: \" + carsArray[i].price);\n",
    "            System.out.println(\"isUsed: \" + carsArray[i].isUsed);\n",
    "            \n",
    "        }\n",
    "\n",
    "    }\n",
    "    public static void main(String[] args) {\n",
    "        Car carOne = new Car(\"Toyota\", \"Corolla\", 2022, 24999.99, false);\n",
    "        Car carTwo = new Car(\"Honda\", \"Accord\", 2018, 18999.99, true);\n",
    "        Car carThree = new Car(\"Ford\", \"Mustang\", 2020, 34999.99, true);\n",
    "            carsArray[0] = (carOne);\n",
    "            carsArray[1] = (carTwo);\n",
    "            carsArray[2] = (carThree);\n",
    "            carOne.printCarDetails();\n",
    "    }\n",
    "}\n",
    "\n",
    "Car.main(null);"
   ]
  },
  {
   "cell_type": "markdown",
   "metadata": {},
   "source": [
    "# Hack 3\n",
    "Create a Car object named myCar with the following details:\n",
    "Make: “Toyota”\n",
    "Model: “Camry”\n",
    "Year: 2019\n",
    "Price: 25000.0\n",
    "Print the car details using the getMake(), getModel(), getYear(), and getPrice() methods.\n",
    "\n",
    "Check if the car is affordable within a budget of $20000 using the isAffordable() method and print the result using if-else statement.\n",
    "\n",
    "Determine and print the car’s classification based on its price using if-else-if statement:\n",
    "\n",
    "If the price is greater than $50000, print “The car is a luxury car.”\n",
    "If the price is greater than $30000, print “The car is a mid-range car.”\n",
    "Otherwise, print “The car is an affordable car.”"
   ]
  },
  {
   "cell_type": "code",
   "execution_count": 21,
   "metadata": {},
   "outputs": [
    {
     "name": "stdout",
     "output_type": "stream",
     "text": [
      "Make: Toyota\n",
      "Model: Camry\n",
      "Year: 2019\n",
      "Price: 25000.0\n",
      "Car is not affordable \n",
      "Car is affordable \n"
     ]
    }
   ],
   "source": [
    "public class Car {\n",
    "    private String make;\n",
    "    private String model;\n",
    "    private int year;\n",
    "    private double price;\n",
    "    \n",
    "    // Constructor\n",
    "    public Car(String make, String model, int year, double price) {\n",
    "        this.make = make;\n",
    "        this.model = model;\n",
    "        this.year = year;\n",
    "        this.price = price;\n",
    "    }\n",
    "    \n",
    "    // Getter methods\n",
    "    public String getMake() {\n",
    "        return make;\n",
    "    }\n",
    "    \n",
    "    public String getModel() {\n",
    "        return model;\n",
    "    }\n",
    "    \n",
    "    public int getYear() {\n",
    "        return year;\n",
    "    }\n",
    "    \n",
    "    public double getPrice() {\n",
    "        return price;\n",
    "    }\n",
    "    \n",
    "    // Method to determine if the car is affordable or not\n",
    "    public boolean isAffordable(double budget) {\n",
    "        if (price <= budget) {\n",
    "            return true;\n",
    "        } else {\n",
    "            return false;\n",
    "        }\n",
    "    }\n",
    "    \n",
    "    // Main method\n",
    "    public static void main(String[] args) {\n",
    "        // Create a new Car object\n",
    "Car carOne = new Car(\"Toyota\", \"Camry\", 2019, 25000.0);\n",
    "        // Print the car details\n",
    "        System.out.println(\"Make: \"+carOne.getMake());\n",
    "        System.out.println(\"Model: \"+carOne.getModel());\n",
    "        System.out.println(\"Year: \"+carOne.getYear());\n",
    "        System.out.println(\"Price: \"+carOne.getPrice());\n",
    "        // Check if the car is affordable with a budget of $20000 using an if-else statement\n",
    "       if(carOne.getPrice()<20000){\n",
    "        System.out.println(\"Car is affordable \");\n",
    "       }else{\n",
    "        System.out.println(\"Car is not affordable \");\n",
    "       }\n",
    "        // Check if the car is a luxury car based on its price using if-else-if statement\n",
    "        if(carOne.getPrice()>50000){\n",
    "            System.out.println(\"Car is luxary \");\n",
    "           }else if(carOne.getPrice()>30000){\n",
    "            System.out.println(\"Car is mid-range\");\n",
    "           }else{\n",
    "            System.out.println(\"Car is affordable \");\n",
    "           }\n",
    "    }\n",
    "}\n",
    "Car.main(null);"
   ]
  },
  {
   "cell_type": "markdown",
   "metadata": {},
   "source": [
    "# Hack 4\n",
    "You are tasked with creating a program that allows a user to enter the number of cars they own, and then input the make and model of each car. The program will then print out the list of cars.\n",
    "\n",
    "Here are the specific requirements:\n",
    "\n",
    "Use a try-catch statement to catch any input/output exceptions that may occur.\n",
    "Use a while loop to ensure that the user enters a positive integer for the number of cars they own.\n",
    "Use a for loop to iterate over each car and prompt the user to enter the make and model of the car."
   ]
  },
  {
   "cell_type": "code",
   "execution_count": 8,
   "metadata": {},
   "outputs": [
    {
     "name": "stdout",
     "output_type": "stream",
     "text": [
      "Printing Cars: \n",
      "Car 1: \n",
      "Make:BMW\n",
      "Model:430i\n",
      "Car 2: \n",
      "Make:Audi\n",
      "Model:Q7\n",
      "Car 3: \n",
      "Make:Mazda\n",
      "Model:3\n"
     ]
    }
   ],
   "source": [
    "import javax.swing.JOptionPane;\n",
    "\n",
    "public class Car {\n",
    "    private String make;\n",
    "    private String model;\n",
    "\n",
    "    \n",
    "    // Constructor\n",
    "    public Car(String make, String model) {\n",
    "        this.make = make;\n",
    "        this.model = model;\n",
    "    }\n",
    "    \n",
    "    public static void main(String[] args) {\n",
    "        Car carRunner = new Car(\"Test\",\"Test\");\n",
    "        carRunner.run();\n",
    "    }\n",
    "\n",
    "    void run(){\n",
    "        String cars = JOptionPane.showInputDialog(\"How many cars do you have?\");\n",
    "\n",
    "        int carsInt = Integer.parseInt(cars);\n",
    "        Car[] carsArray = new Car[carsInt];\n",
    "        for(int i = 0; i < carsInt; i++){\n",
    "            String make = JOptionPane.showInputDialog(\"What is the make of car \" + (i+1) + \"? (Ex: Toyota, Honda, BMW, Audi, etc)\");\n",
    "            String model = JOptionPane.showInputDialog(\"What is the model of car \" + (i+1) + \"? (Ex: Prius, Civic, i4, Q7 etc)\");\n",
    "            carsArray[i] = new Car(make,model);\n",
    "        }\n",
    "        System.out.println(\"Printing Cars: \");\n",
    "        for(int i = 0; i < carsArray.length; i++){\n",
    "            System.out.println(\"Car \" + (i+1) + \": \");\n",
    "            System.out.println(\"Make: \" + carsArray[i].make);\n",
    "            System.out.println(\"Model: \" + carsArray[i].model);\n",
    "        }\n",
    "    }\n",
    "}\n",
    "Car.main(null);"
   ]
  }
 ],
 "metadata": {
  "kernelspec": {
   "display_name": "Java",
   "language": "java",
   "name": "java"
  },
  "language_info": {
   "codemirror_mode": "java",
   "file_extension": ".jshell",
   "mimetype": "text/x-java-source",
   "name": "java",
   "pygments_lexer": "java",
   "version": "11.0.16.1+0"
  },
  "orig_nbformat": 4
 },
 "nbformat": 4,
 "nbformat_minor": 2
}
