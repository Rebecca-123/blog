{
 "cells": [
  {
   "attachments": {},
   "cell_type": "markdown",
   "metadata": {},
   "source": [
    "# CSUSM Event\n",
    "- badges: true\n",
    "- toc: true\n",
    "- hide: true\n",
    "- categories: [tri3]\n",
    "- permalink: /csusm"
   ]
  },
  {
   "attachments": {},
   "cell_type": "markdown",
   "metadata": {},
   "source": [
    "## Speakers\n",
    "- Ashley: Applied Physics\n",
    "   - Quantum computing group\n",
    "   - PhD at UCSD for Material Sciences and Engineering\n",
    "   - Use **Python** to read data\n",
    "- John: Computer Science\n",
    "   - Versatile degree"
   ]
  },
  {
   "attachments": {},
   "cell_type": "markdown",
   "metadata": {},
   "source": [
    "## Hiring Opportunities\n",
    "- Qualcomm, Thermo Fischer, General Atomics...\n",
    "\n",
    "- CSUSM Master's in Cybersecurity\n",
    "- CSUSM\n",
    "   - Programs for HS students\n",
    "      - Hackathons\n",
    "   - Summer scholars, quantum bride program (for admitted CSUSM students)   "
   ]
  },
  {
   "attachments": {},
   "cell_type": "markdown",
   "metadata": {},
   "source": [
    "## Finding Internship Opportunities\n",
    "- Networking\n",
    "   - Campus events\n",
    "- Avoid unpaid\n",
    "- Apply even if you feel underqualified\n",
    "- Ask faculty members for help\n",
    "   - Reading essays   \n",
    "\n",
    "## Financial Aid\n",
    "- Suhsidized loan: partially funded by government, help prevent you from going further into debt\n",
    "  - Don't have to worry about all interests on the loan\n",
    "- Unsubsidized loan: will accrue interest  "
   ]
  },
  {
   "attachments": {},
   "cell_type": "markdown",
   "metadata": {},
   "source": [
    "## Reflection\n",
    "\n",
    "This event allowed me to gain some insight, though parts of it were specific to CSUSM. Some key takeaways are advice on applying to internships, majors and degree programs, and some general advice about navigating the STEM field. I appreciated Ashley's comments on how failure doesn't define any individual, and her persistence was inspiring (from struggling with HS physics to PhD student). She also mentioned the applications of CS in all fields. This reminds me that even if I don't choose a career in pure CS, my **technical skills will still be useful**, thus it is a good idea to put my best effort forth in AP CS A and developing my skills, no matter what my future plans are. I won't be able to predict when I need these skills, but they're undoubtedly good to have. \n",
    "\n",
    "Something interesting Ashley mentioned is that she recommends avoiding unpaid internships. I don't necessarily agree with this, but I see where she's coming from and I think it's a good thing to keep in mind. Another interesting thing the speakers mentioned is how CS students often get Master's degrees in 2 years, whcih could potentially increase salaries. They also mentioned some local SD companies offering opportunities. These could be good companies to reach out to for career opportunities.\n",
    "\n",
    "Since John is a CS grad, I also asked for his thoughts in regards to ChatGPT and career opportunities. John mentioned that a growing field in CS is cybersecurity. He also mentioned how it is unlikely that tools such as ChatGPT will be maintained by themselves, thus there will always be a need for programmers. John also mentioned how CS is a very versatile degree. He also mentioned potential opportunities in artificial intelligence, which could be boosted by a minor/major in cognitive science. These are good fields I plan to consider, and hopefully I'll be able to narrow down my interests in CS.\n",
    "\n",
    "John also provided some insight regarding the industry and interviews. Some notable things he mentioned are that some companies do require coding interviews, but not all. He also mentioned that some asked for his **GitHub profile** and he emphasized putting projects. He discussed how his Qualcomm interview involved explaining the code for one of his projects. Furthermore, he explained how companies are focused more on your **ability to communicate and explain the code** rather than whether you're able to complete the problem correctly.\n",
    "\n",
    "Some specifics he told me regarding his Amazon interview process:\n",
    "   - Basic code debugging problems\n",
    "   - Behaviorals\n",
    "   - In person\n",
    "      - Questions/behaviorals (favorite data structure, basic CS concepts, Big O notation...)\n",
    "      - Coding interview problems\n",
    "\n",
    "Another interesting point John made is about how FAANG companies may not have the best environment, though they provide great salaries. He also mentioned avoiding companies that tell you that \"we're like family.\" He recommended seeking out jobs at local companies, and mentioned how startups may not always be the best option (in the case that the project is a blowout)."
   ]
  }
 ],
 "metadata": {
  "language_info": {
   "name": "python"
  },
  "orig_nbformat": 4
 },
 "nbformat": 4,
 "nbformat_minor": 2
}
